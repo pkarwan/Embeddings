{
 "cells": [
  {
   "cell_type": "markdown",
   "id": "59cd2404-7ea9-4792-899c-046ee133d1ea",
   "metadata": {},
   "source": [
    "<h1> Project 2 Embeddings</h1>\n",
    "<h2>SetUp</h2>\n",
    "There are different techniques to extract information from raw text data and use it to train a classification model.Let's get required libraries for to start with word embeddings. "
   ]
  },
  {
   "cell_type": "code",
   "execution_count": 1,
   "id": "cfb9d75f-a969-4ddf-a0ba-689786ff6f96",
   "metadata": {},
   "outputs": [],
   "source": [
    "## for data\n",
    "import json\n",
    "import pandas as pd\n",
    "import numpy as np\n",
    "\n",
    "## for plotting\n",
    "import matplotlib.pyplot as plt\n",
    "import seaborn as sns\n",
    "\n",
    "## for processing\n",
    "import re\n",
    "import nltk\n",
    "\n",
    "## for bag-of-words\n",
    "from sklearn import feature_extraction, model_selection, naive_bayes, pipeline, manifold, preprocessing\n",
    "\n",
    "## for Word2Vec\n",
    "import gensim.downloader as api\n",
    "from gensim import models\n",
    "from gensim.models import KeyedVectors\n",
    "from mpl_toolkits.mplot3d import Axes3D\n",
    "from scipy import spatial\n",
    "\n",
    "\n",
    "\n",
    "import warnings\n",
    "warnings.filterwarnings('ignore')"
   ]
  },
  {
   "cell_type": "markdown",
   "id": "031f8bfa-4e8a-4702-a798-4e8804c2ca50",
   "metadata": {},
   "source": [
    "<h2>Let's read training dataset using pandas library. Create columns to store Event id and Event details as EventId and Event respectively and see how the data looks like.</h2>"
   ]
  },
  {
   "cell_type": "code",
   "execution_count": 139,
   "id": "e4a4c9fc-c528-45ac-85f0-e92849b0d93c",
   "metadata": {},
   "outputs": [
    {
     "data": {
      "text/html": [
       "<div>\n",
       "<style scoped>\n",
       "    .dataframe tbody tr th:only-of-type {\n",
       "        vertical-align: middle;\n",
       "    }\n",
       "\n",
       "    .dataframe tbody tr th {\n",
       "        vertical-align: top;\n",
       "    }\n",
       "\n",
       "    .dataframe thead th {\n",
       "        text-align: right;\n",
       "    }\n",
       "</style>\n",
       "<table border=\"1\" class=\"dataframe\">\n",
       "  <thead>\n",
       "    <tr style=\"text-align: right;\">\n",
       "      <th></th>\n",
       "      <th>Event</th>\n",
       "      <th>EventId</th>\n",
       "    </tr>\n",
       "  </thead>\n",
       "  <tbody>\n",
       "    <tr>\n",
       "      <th>0</th>\n",
       "      <td>net lived lofty expectation month basketball l...</td>\n",
       "      <td>16</td>\n",
       "    </tr>\n",
       "    <tr>\n",
       "      <th>1</th>\n",
       "      <td>duck time allowing goal game season instance s...</td>\n",
       "      <td>23</td>\n",
       "    </tr>\n",
       "    <tr>\n",
       "      <th>2</th>\n",
       "      <td>invezz wednesday november hewlett packard nyse...</td>\n",
       "      <td>24</td>\n",
       "    </tr>\n",
       "    <tr>\n",
       "      <th>3</th>\n",
       "      <td>nov photo provided george loegering large spin...</td>\n",
       "      <td>143</td>\n",
       "    </tr>\n",
       "    <tr>\n",
       "      <th>4</th>\n",
       "      <td>actress jennifer love hewitt birth baby girl n...</td>\n",
       "      <td>11</td>\n",
       "    </tr>\n",
       "    <tr>\n",
       "      <th>...</th>\n",
       "      <td>...</td>\n",
       "      <td>...</td>\n",
       "    </tr>\n",
       "    <tr>\n",
       "      <th>5624</th>\n",
       "      <td>bygone damsel distress talking cinderella snow...</td>\n",
       "      <td>19</td>\n",
       "    </tr>\n",
       "    <tr>\n",
       "      <th>5625</th>\n",
       "      <td>abu dhabi national day firework programme expa...</td>\n",
       "      <td>20</td>\n",
       "    </tr>\n",
       "    <tr>\n",
       "      <th>5626</th>\n",
       "      <td>men woman experience post sex regret wildly re...</td>\n",
       "      <td>71</td>\n",
       "    </tr>\n",
       "    <tr>\n",
       "      <th>5627</th>\n",
       "      <td>dim outlook traditional desktop pc day slight ...</td>\n",
       "      <td>24</td>\n",
       "    </tr>\n",
       "    <tr>\n",
       "      <th>5628</th>\n",
       "      <td>investor braced bad news veteran computer firm...</td>\n",
       "      <td>24</td>\n",
       "    </tr>\n",
       "  </tbody>\n",
       "</table>\n",
       "<p>5629 rows × 2 columns</p>\n",
       "</div>"
      ],
      "text/plain": [
       "                                                  Event EventId\n",
       "0     net lived lofty expectation month basketball l...      16\n",
       "1     duck time allowing goal game season instance s...      23\n",
       "2     invezz wednesday november hewlett packard nyse...      24\n",
       "3     nov photo provided george loegering large spin...     143\n",
       "4     actress jennifer love hewitt birth baby girl n...      11\n",
       "...                                                 ...     ...\n",
       "5624  bygone damsel distress talking cinderella snow...      19\n",
       "5625  abu dhabi national day firework programme expa...      20\n",
       "5626  men woman experience post sex regret wildly re...      71\n",
       "5627  dim outlook traditional desktop pc day slight ...      24\n",
       "5628  investor braced bad news veteran computer firm...      24\n",
       "\n",
       "[5629 rows x 2 columns]"
      ]
     },
     "execution_count": 139,
     "metadata": {},
     "output_type": "execute_result"
    }
   ],
   "source": [
    "\n",
    "\n",
    "f = open('train.json', \"r\")\n",
    "\n",
    "data = json.loads(f.read())\n",
    "#type(data)\n",
    "\n",
    "df_train = pd.DataFrame.from_dict(data.items())\n",
    "df_train.columns = ['Event', 'EventId']\n",
    "df_train"
   ]
  },
  {
   "cell_type": "markdown",
   "id": "18c02b78-f23c-446c-a3b7-ac1688e47b4d",
   "metadata": {},
   "source": [
    "## Let's get count of events and all the EvenIds grouped together to get the tokenized text for each eventid. "
   ]
  },
  {
   "cell_type": "code",
   "execution_count": 140,
   "id": "530e6507-d2f1-4ef4-afb8-c3714b03589a",
   "metadata": {},
   "outputs": [
    {
     "name": "stdout",
     "output_type": "stream",
     "text": [
      "152\n"
     ]
    }
   ],
   "source": [
    "uniqueVal = df_train.EventId.nunique()\n",
    "print(uniqueVal)"
   ]
  },
  {
   "cell_type": "code",
   "execution_count": 141,
   "id": "75ffd8b7-24ce-4ff4-a89d-b6808c0881e1",
   "metadata": {},
   "outputs": [
    {
     "data": {
      "text/plain": [
       "array(['16', '23', '24', '143', '11', '79', '117', '14', '3', '101', '48',\n",
       "       '63', '87', '57', '100', '61', '32', '88', '58', '142', '116',\n",
       "       '110', '68', '83', '114', '77', '56', '105', '29', '64', '7', '93',\n",
       "       '75', '99', '66', '18', '40', '102', '130', '36', '67', '104',\n",
       "       '65', '128', '22', '25', '31', '60', '50', '46', '12', '4', '6',\n",
       "       '19', '76', '38', '124', '86', '62', '21', '127', '9', '5', '145',\n",
       "       '44', '123', '15', '47', '2', '129', '35', '115', '41', '94', '33',\n",
       "       '39', '54', '118', '13', '82', '131', '72', '37', '42', '108',\n",
       "       '112', '95', '85', '69', '70', '17', '34', '141', '120', '92',\n",
       "       '78', '49', '80', '10', '89', '43', '137', '109', '59', '84', '97',\n",
       "       '74', '1', '147', '26', '90', '96', '20', '103', '126', '146',\n",
       "       '119', '45', '30', '73', '106', '149', '135', '71', '91', '52',\n",
       "       '133', '28', '113', '8', '98', '53', '122', '121', '132', '125',\n",
       "       '111', '140', '81', '51', '138', '148', '150', '134', '27', '55',\n",
       "       '144', '136', '151', '107', '139', '152'], dtype=object)"
      ]
     },
     "execution_count": 141,
     "metadata": {},
     "output_type": "execute_result"
    }
   ],
   "source": [
    "uEvent = pd.unique(df_train['EventId'])\n",
    "uEvent"
   ]
  },
  {
   "cell_type": "code",
   "execution_count": 142,
   "id": "250da4f9-6a09-4e1d-8a85-14cb00f14ffc",
   "metadata": {},
   "outputs": [
    {
     "data": {
      "text/plain": [
       "EventId\n",
       "1      70\n",
       "10     24\n",
       "100    25\n",
       "101    70\n",
       "102    70\n",
       "103    17\n",
       "104    32\n",
       "105    48\n",
       "106    22\n",
       "107     7\n",
       "108    11\n",
       "109    40\n",
       "11     53\n",
       "110    19\n",
       "111    12\n",
       "112     8\n",
       "113    10\n",
       "114    37\n",
       "115     8\n",
       "116    20\n",
       "117    19\n",
       "118     7\n",
       "119    36\n",
       "12     70\n",
       "120    23\n",
       "121    27\n",
       "122    15\n",
       "123    48\n",
       "124    10\n",
       "125    15\n",
       "126    14\n",
       "127    12\n",
       "128    31\n",
       "129    14\n",
       "13     70\n",
       "130    21\n",
       "131    35\n",
       "132     5\n",
       "133     9\n",
       "134    11\n",
       "135    11\n",
       "136     2\n",
       "137    13\n",
       "138     3\n",
       "139     3\n",
       "14     70\n",
       "140    18\n",
       "141    16\n",
       "142    25\n",
       "143    11\n",
       "Name: EventId, dtype: int64"
      ]
     },
     "execution_count": 142,
     "metadata": {},
     "output_type": "execute_result"
    }
   ],
   "source": [
    "df_cnt = df_train.groupby(['EventId'])['EventId'].count()\n",
    "df_cnt.head(50)"
   ]
  },
  {
   "cell_type": "code",
   "execution_count": 143,
   "id": "d7c0b8de-1237-4ae8-a842-4045d5a06707",
   "metadata": {},
   "outputs": [
    {
     "data": {
      "text/html": [
       "<div>\n",
       "<style scoped>\n",
       "    .dataframe tbody tr th:only-of-type {\n",
       "        vertical-align: middle;\n",
       "    }\n",
       "\n",
       "    .dataframe tbody tr th {\n",
       "        vertical-align: top;\n",
       "    }\n",
       "\n",
       "    .dataframe thead th {\n",
       "        text-align: right;\n",
       "    }\n",
       "</style>\n",
       "<table border=\"1\" class=\"dataframe\">\n",
       "  <thead>\n",
       "    <tr style=\"text-align: right;\">\n",
       "      <th></th>\n",
       "      <th>Event</th>\n",
       "    </tr>\n",
       "    <tr>\n",
       "      <th>EventId</th>\n",
       "      <th></th>\n",
       "    </tr>\n",
       "  </thead>\n",
       "  <tbody>\n",
       "    <tr>\n",
       "      <th>1</th>\n",
       "      <td>prince william joined taylor swift jon bon jov...</td>\n",
       "    </tr>\n",
       "    <tr>\n",
       "      <th>10</th>\n",
       "      <td>sinn fein positioning mary lou mcdonald party ...</td>\n",
       "    </tr>\n",
       "    <tr>\n",
       "      <th>100</th>\n",
       "      <td>los angeles auto year unveiling large number e...</td>\n",
       "    </tr>\n",
       "    <tr>\n",
       "      <th>101</th>\n",
       "      <td>washin nov reuters thanksgiving traveler face ...</td>\n",
       "    </tr>\n",
       "    <tr>\n",
       "      <th>102</th>\n",
       "      <td>secretary general ban ki moon second round syr...</td>\n",
       "    </tr>\n",
       "    <tr>\n",
       "      <th>...</th>\n",
       "      <td>...</td>\n",
       "    </tr>\n",
       "    <tr>\n",
       "      <th>95</th>\n",
       "      <td>latvian prime minister valdis dombrovskis resi...</td>\n",
       "    </tr>\n",
       "    <tr>\n",
       "      <th>96</th>\n",
       "      <td>common dissolvable medication sa risk heart at...</td>\n",
       "    </tr>\n",
       "    <tr>\n",
       "      <th>97</th>\n",
       "      <td>sony corp long time synonym quality electronic...</td>\n",
       "    </tr>\n",
       "    <tr>\n",
       "      <th>98</th>\n",
       "      <td>release illinois united state november pr carb...</td>\n",
       "    </tr>\n",
       "    <tr>\n",
       "      <th>99</th>\n",
       "      <td>stamford conn year shooting sandy hook element...</td>\n",
       "    </tr>\n",
       "  </tbody>\n",
       "</table>\n",
       "<p>152 rows × 1 columns</p>\n",
       "</div>"
      ],
      "text/plain": [
       "                                                     Event\n",
       "EventId                                                   \n",
       "1        prince william joined taylor swift jon bon jov...\n",
       "10       sinn fein positioning mary lou mcdonald party ...\n",
       "100      los angeles auto year unveiling large number e...\n",
       "101      washin nov reuters thanksgiving traveler face ...\n",
       "102      secretary general ban ki moon second round syr...\n",
       "...                                                    ...\n",
       "95       latvian prime minister valdis dombrovskis resi...\n",
       "96       common dissolvable medication sa risk heart at...\n",
       "97       sony corp long time synonym quality electronic...\n",
       "98       release illinois united state november pr carb...\n",
       "99       stamford conn year shooting sandy hook element...\n",
       "\n",
       "[152 rows x 1 columns]"
      ]
     },
     "execution_count": 143,
     "metadata": {},
     "output_type": "execute_result"
    }
   ],
   "source": [
    "df_train = df_train.groupby(['EventId']).agg({'Event': ' '.join})\n",
    "df_train"
   ]
  },
  {
   "cell_type": "markdown",
   "id": "6b9e1986-dc68-4401-9cf5-5ebd40982c7c",
   "metadata": {},
   "source": [
    "<h2>Data PreProcessing</h2>"
   ]
  },
  {
   "cell_type": "markdown",
   "id": "ced440a3-49cd-4d96-8bcb-3ddc7c95efb4",
   "metadata": {},
   "source": [
    "<p> To perform data preprocessing, utils_preprocess_text functions is created. This function will take 3 parameters, flag for stemming, flag for lemmatization and stopwords. This will remove stopwards like a, the, this which we found in almost every documents and in large quantity. So to find actual rare words from document, we will remove these stopwords. This process will convert all chars in lowercase, remove special characters, remove any blank/white spaces, perform lemmatization or stemming which is needed. And output will be stored as text_clean column value. </p>"
   ]
  },
  {
   "cell_type": "code",
   "execution_count": 144,
   "id": "c53c5991-9457-4846-8b98-72d544a12927",
   "metadata": {},
   "outputs": [],
   "source": [
    "df_stopwords = nltk.corpus.stopwords.words(\"english\")"
   ]
  },
  {
   "cell_type": "code",
   "execution_count": 145,
   "id": "cd9b6cad-f830-4677-9e5d-7f8d38294561",
   "metadata": {},
   "outputs": [],
   "source": [
    "def utils_preprocess_text(text, flg_stemm=False, flg_lemm=True, lst_stopwords=None):\n",
    "    ## clean (convert to lowercase and remove punctuations and characters and then strip)\n",
    "    text = re.sub(r'[^\\w\\s]', '', str(text).lower().strip())\n",
    "            \n",
    "    ## Tokenize (convert from string to list)\n",
    "    lst_text = text.split()\n",
    "    ## remove Stopwords\n",
    "    if lst_stopwords is not None:\n",
    "        lst_text = [word for word in lst_text if word not in \n",
    "                    lst_stopwords]\n",
    "                \n",
    "    ## Stemming (remove -ing, -ly, ...)\n",
    "    if flg_stemm == True:\n",
    "        ps = nltk.stem.porter.PorterStemmer()\n",
    "        lst_text = [ps.stem(word) for word in lst_text]\n",
    "                \n",
    "    ## Lemmatisation (convert the word into root word)\n",
    "    if flg_lemm == True:\n",
    "        lem = nltk.stem.wordnet.WordNetLemmatizer()\n",
    "        lst_text = [lem.lemmatize(word) for word in lst_text]\n",
    "            \n",
    "    ## back to string from list\n",
    "    text = \" \".join(lst_text)\n",
    "    return text"
   ]
  },
  {
   "cell_type": "code",
   "execution_count": 146,
   "id": "dd08c6ab-07cf-4490-8e78-e10f8a0035b2",
   "metadata": {},
   "outputs": [
    {
     "data": {
      "text/html": [
       "<div>\n",
       "<style scoped>\n",
       "    .dataframe tbody tr th:only-of-type {\n",
       "        vertical-align: middle;\n",
       "    }\n",
       "\n",
       "    .dataframe tbody tr th {\n",
       "        vertical-align: top;\n",
       "    }\n",
       "\n",
       "    .dataframe thead th {\n",
       "        text-align: right;\n",
       "    }\n",
       "</style>\n",
       "<table border=\"1\" class=\"dataframe\">\n",
       "  <thead>\n",
       "    <tr style=\"text-align: right;\">\n",
       "      <th></th>\n",
       "      <th>Event</th>\n",
       "      <th>text_clean</th>\n",
       "    </tr>\n",
       "    <tr>\n",
       "      <th>EventId</th>\n",
       "      <th></th>\n",
       "      <th></th>\n",
       "    </tr>\n",
       "  </thead>\n",
       "  <tbody>\n",
       "    <tr>\n",
       "      <th>1</th>\n",
       "      <td>prince william joined taylor swift jon bon jov...</td>\n",
       "      <td>prince william joined taylor swift jon bon jov...</td>\n",
       "    </tr>\n",
       "    <tr>\n",
       "      <th>10</th>\n",
       "      <td>sinn fein positioning mary lou mcdonald party ...</td>\n",
       "      <td>sinn fein positioning mary lou mcdonald party ...</td>\n",
       "    </tr>\n",
       "    <tr>\n",
       "      <th>100</th>\n",
       "      <td>los angeles auto year unveiling large number e...</td>\n",
       "      <td>los angeles auto year unveiling large number e...</td>\n",
       "    </tr>\n",
       "    <tr>\n",
       "      <th>101</th>\n",
       "      <td>washin nov reuters thanksgiving traveler face ...</td>\n",
       "      <td>washin nov reuters thanksgiving traveler face ...</td>\n",
       "    </tr>\n",
       "    <tr>\n",
       "      <th>102</th>\n",
       "      <td>secretary general ban ki moon second round syr...</td>\n",
       "      <td>secretary general ban ki moon second round syr...</td>\n",
       "    </tr>\n",
       "  </tbody>\n",
       "</table>\n",
       "</div>"
      ],
      "text/plain": [
       "                                                     Event  \\\n",
       "EventId                                                      \n",
       "1        prince william joined taylor swift jon bon jov...   \n",
       "10       sinn fein positioning mary lou mcdonald party ...   \n",
       "100      los angeles auto year unveiling large number e...   \n",
       "101      washin nov reuters thanksgiving traveler face ...   \n",
       "102      secretary general ban ki moon second round syr...   \n",
       "\n",
       "                                                text_clean  \n",
       "EventId                                                     \n",
       "1        prince william joined taylor swift jon bon jov...  \n",
       "10       sinn fein positioning mary lou mcdonald party ...  \n",
       "100      los angeles auto year unveiling large number e...  \n",
       "101      washin nov reuters thanksgiving traveler face ...  \n",
       "102      secretary general ban ki moon second round syr...  "
      ]
     },
     "execution_count": 146,
     "metadata": {},
     "output_type": "execute_result"
    }
   ],
   "source": [
    "df_train[\"text_clean\"] = df_train[\"Event\"].apply(lambda x: \n",
    "          utils_preprocess_text(x, flg_stemm=False, flg_lemm=True, \n",
    "          lst_stopwords=df_stopwords))\n",
    "df_train.head()"
   ]
  },
  {
   "cell_type": "markdown",
   "id": "64029a61-5afb-4ec8-bd69-568765e9f7bf",
   "metadata": {},
   "source": [
    "<h2>We will now perform the same steps for test data as below.</h2>"
   ]
  },
  {
   "cell_type": "code",
   "execution_count": 10,
   "id": "cd1fd249-29b8-4b8f-bbd5-c618e3981fc4",
   "metadata": {},
   "outputs": [
    {
     "data": {
      "text/html": [
       "<div>\n",
       "<style scoped>\n",
       "    .dataframe tbody tr th:only-of-type {\n",
       "        vertical-align: middle;\n",
       "    }\n",
       "\n",
       "    .dataframe tbody tr th {\n",
       "        vertical-align: top;\n",
       "    }\n",
       "\n",
       "    .dataframe thead th {\n",
       "        text-align: right;\n",
       "    }\n",
       "</style>\n",
       "<table border=\"1\" class=\"dataframe\">\n",
       "  <thead>\n",
       "    <tr style=\"text-align: right;\">\n",
       "      <th></th>\n",
       "      <th>Event</th>\n",
       "      <th>EventId</th>\n",
       "    </tr>\n",
       "  </thead>\n",
       "  <tbody>\n",
       "    <tr>\n",
       "      <th>0</th>\n",
       "      <td>mcdonald royal cheese france facing competitio...</td>\n",
       "      <td>43</td>\n",
       "    </tr>\n",
       "    <tr>\n",
       "      <th>1</th>\n",
       "      <td>parson missing family dead parson kansa attorn...</td>\n",
       "      <td>74</td>\n",
       "    </tr>\n",
       "    <tr>\n",
       "      <th>2</th>\n",
       "      <td>thursday evening nov photo bianca ward scream ...</td>\n",
       "      <td>13</td>\n",
       "    </tr>\n",
       "    <tr>\n",
       "      <th>3</th>\n",
       "      <td>pope francis embraced hermeneutic reform pope ...</td>\n",
       "      <td>46</td>\n",
       "    </tr>\n",
       "    <tr>\n",
       "      <th>4</th>\n",
       "      <td>washin obama administration proposed rule tues...</td>\n",
       "      <td>38</td>\n",
       "    </tr>\n",
       "    <tr>\n",
       "      <th>...</th>\n",
       "      <td>...</td>\n",
       "      <td>...</td>\n",
       "    </tr>\n",
       "    <tr>\n",
       "      <th>2826</th>\n",
       "      <td>thanksgiving travel snarled storm lash eastern...</td>\n",
       "      <td>101</td>\n",
       "    </tr>\n",
       "    <tr>\n",
       "      <th>2827</th>\n",
       "      <td>east coast bracing snow ice storm threatening ...</td>\n",
       "      <td>101</td>\n",
       "    </tr>\n",
       "    <tr>\n",
       "      <th>2828</th>\n",
       "      <td>causing epic thanksgiving storm dip jet stream...</td>\n",
       "      <td>101</td>\n",
       "    </tr>\n",
       "    <tr>\n",
       "      <th>2829</th>\n",
       "      <td>daily roundup global report security issue ski...</td>\n",
       "      <td>102</td>\n",
       "    </tr>\n",
       "    <tr>\n",
       "      <th>2830</th>\n",
       "      <td>meet time attempt deadly year war comment trav...</td>\n",
       "      <td>102</td>\n",
       "    </tr>\n",
       "  </tbody>\n",
       "</table>\n",
       "<p>2831 rows × 2 columns</p>\n",
       "</div>"
      ],
      "text/plain": [
       "                                                  Event EventId\n",
       "0     mcdonald royal cheese france facing competitio...      43\n",
       "1     parson missing family dead parson kansa attorn...      74\n",
       "2     thursday evening nov photo bianca ward scream ...      13\n",
       "3     pope francis embraced hermeneutic reform pope ...      46\n",
       "4     washin obama administration proposed rule tues...      38\n",
       "...                                                 ...     ...\n",
       "2826  thanksgiving travel snarled storm lash eastern...     101\n",
       "2827  east coast bracing snow ice storm threatening ...     101\n",
       "2828  causing epic thanksgiving storm dip jet stream...     101\n",
       "2829  daily roundup global report security issue ski...     102\n",
       "2830  meet time attempt deadly year war comment trav...     102\n",
       "\n",
       "[2831 rows x 2 columns]"
      ]
     },
     "execution_count": 10,
     "metadata": {},
     "output_type": "execute_result"
    }
   ],
   "source": [
    "f = open('test.json', \"r\")\n",
    "\n",
    "data_test = json.loads(f.read())\n",
    "#type(data)\n",
    "\n",
    "df_test = pd.DataFrame.from_dict(data_test.items())\n",
    "df_test.columns = ['Event', 'EventId']\n",
    "df_test"
   ]
  },
  {
   "cell_type": "code",
   "execution_count": 11,
   "id": "4ed4e7b3-9b2a-4e65-8edd-60c37cc554f9",
   "metadata": {},
   "outputs": [
    {
     "name": "stdout",
     "output_type": "stream",
     "text": [
      "152\n"
     ]
    }
   ],
   "source": [
    "#Total Events\n",
    "uniqueVal_test = df_test.EventId.nunique()\n",
    "print(uniqueVal_test)"
   ]
  },
  {
   "cell_type": "code",
   "execution_count": 12,
   "id": "c4e928f8-0fbb-4062-8706-42d95bfd51f1",
   "metadata": {},
   "outputs": [],
   "source": [
    "df_test = df_test.groupby(['EventId'], as_index = False).agg({'Event': ' '.join})"
   ]
  },
  {
   "cell_type": "code",
   "execution_count": 13,
   "id": "5f105595-3901-42b6-8abc-8f100c6a4a5b",
   "metadata": {},
   "outputs": [
    {
     "data": {
      "text/html": [
       "<div>\n",
       "<style scoped>\n",
       "    .dataframe tbody tr th:only-of-type {\n",
       "        vertical-align: middle;\n",
       "    }\n",
       "\n",
       "    .dataframe tbody tr th {\n",
       "        vertical-align: top;\n",
       "    }\n",
       "\n",
       "    .dataframe thead th {\n",
       "        text-align: right;\n",
       "    }\n",
       "</style>\n",
       "<table border=\"1\" class=\"dataframe\">\n",
       "  <thead>\n",
       "    <tr style=\"text-align: right;\">\n",
       "      <th></th>\n",
       "      <th>EventId</th>\n",
       "      <th>Event</th>\n",
       "      <th>text_clean</th>\n",
       "    </tr>\n",
       "  </thead>\n",
       "  <tbody>\n",
       "    <tr>\n",
       "      <th>0</th>\n",
       "      <td>1</td>\n",
       "      <td>rock roya teamed actual roya night prince will...</td>\n",
       "      <td>rock roya teamed actual roya night prince will...</td>\n",
       "    </tr>\n",
       "    <tr>\n",
       "      <th>1</th>\n",
       "      <td>10</td>\n",
       "      <td>liam adam brother sinn gerry adam jailed year ...</td>\n",
       "      <td>liam adam brother sinn gerry adam jailed year ...</td>\n",
       "    </tr>\n",
       "    <tr>\n",
       "      <th>2</th>\n",
       "      <td>100</td>\n",
       "      <td>year auto unveiling number electric car early ...</td>\n",
       "      <td>year auto unveiling number electric car early ...</td>\n",
       "    </tr>\n",
       "    <tr>\n",
       "      <th>3</th>\n",
       "      <td>101</td>\n",
       "      <td>large storm blamed death west blew oklahoma te...</td>\n",
       "      <td>large storm blamed death west blew oklahoma te...</td>\n",
       "    </tr>\n",
       "    <tr>\n",
       "      <th>4</th>\n",
       "      <td>102</td>\n",
       "      <td>beirut reuters syrian authority attend talk ja...</td>\n",
       "      <td>beirut reuters syrian authority attend talk ja...</td>\n",
       "    </tr>\n",
       "  </tbody>\n",
       "</table>\n",
       "</div>"
      ],
      "text/plain": [
       "  EventId                                              Event  \\\n",
       "0       1  rock roya teamed actual roya night prince will...   \n",
       "1      10  liam adam brother sinn gerry adam jailed year ...   \n",
       "2     100  year auto unveiling number electric car early ...   \n",
       "3     101  large storm blamed death west blew oklahoma te...   \n",
       "4     102  beirut reuters syrian authority attend talk ja...   \n",
       "\n",
       "                                          text_clean  \n",
       "0  rock roya teamed actual roya night prince will...  \n",
       "1  liam adam brother sinn gerry adam jailed year ...  \n",
       "2  year auto unveiling number electric car early ...  \n",
       "3  large storm blamed death west blew oklahoma te...  \n",
       "4  beirut reuters syrian authority attend talk ja...  "
      ]
     },
     "execution_count": 13,
     "metadata": {},
     "output_type": "execute_result"
    }
   ],
   "source": [
    "df_test[\"text_clean\"] = df_test[\"Event\"].apply(lambda x: \n",
    "          utils_preprocess_text(x, flg_stemm=False, flg_lemm=True, \n",
    "          lst_stopwords=df_stopwords))\n",
    "df_test.head()"
   ]
  },
  {
   "cell_type": "markdown",
   "id": "7123dc0c-d89e-4596-8f70-0c27191ac402",
   "metadata": {},
   "source": [
    "<h1> TF-IDF </h1>\n",
    "### Let's start with our baseline model - TF-IDF.\n",
    "<p>TF-IDF stands for term frequency-inverse document frequency. A simple way to calculate term frequencies is to divide the number of occurrences of a word by the total number of words in the document. In this way, the number of times a word appears in large documents can be compared to that of smaller documents.\n",
    "\n",
    "However, it may be hard to differentiate documents based on term frequency if a word shows up in a majority of documents. To handle this we also consider *inverse document frequency*, which is the total number of documents divided by the number of documents that contain the word.</p>"
   ]
  },
  {
   "cell_type": "code",
   "execution_count": 14,
   "id": "119293bf-3713-4f5a-9128-05d1fb38dd64",
   "metadata": {},
   "outputs": [
    {
     "data": {
      "text/html": [
       "<div>\n",
       "<style scoped>\n",
       "    .dataframe tbody tr th:only-of-type {\n",
       "        vertical-align: middle;\n",
       "    }\n",
       "\n",
       "    .dataframe tbody tr th {\n",
       "        vertical-align: top;\n",
       "    }\n",
       "\n",
       "    .dataframe thead th {\n",
       "        text-align: right;\n",
       "    }\n",
       "</style>\n",
       "<table border=\"1\" class=\"dataframe\">\n",
       "  <thead>\n",
       "    <tr style=\"text-align: right;\">\n",
       "      <th></th>\n",
       "      <th>Event</th>\n",
       "      <th>text_clean</th>\n",
       "    </tr>\n",
       "    <tr>\n",
       "      <th>EventId</th>\n",
       "      <th></th>\n",
       "      <th></th>\n",
       "    </tr>\n",
       "  </thead>\n",
       "  <tbody>\n",
       "    <tr>\n",
       "      <th>1</th>\n",
       "      <td>prince william joined taylor swift jon bon jov...</td>\n",
       "      <td>prince william joined taylor swift jon bon jov...</td>\n",
       "    </tr>\n",
       "    <tr>\n",
       "      <th>10</th>\n",
       "      <td>sinn fein positioning mary lou mcdonald party ...</td>\n",
       "      <td>sinn fein positioning mary lou mcdonald party ...</td>\n",
       "    </tr>\n",
       "    <tr>\n",
       "      <th>100</th>\n",
       "      <td>los angeles auto year unveiling large number e...</td>\n",
       "      <td>los angeles auto year unveiling large number e...</td>\n",
       "    </tr>\n",
       "    <tr>\n",
       "      <th>101</th>\n",
       "      <td>washin nov reuters thanksgiving traveler face ...</td>\n",
       "      <td>washin nov reuters thanksgiving traveler face ...</td>\n",
       "    </tr>\n",
       "    <tr>\n",
       "      <th>102</th>\n",
       "      <td>secretary general ban ki moon second round syr...</td>\n",
       "      <td>secretary general ban ki moon second round syr...</td>\n",
       "    </tr>\n",
       "  </tbody>\n",
       "</table>\n",
       "</div>"
      ],
      "text/plain": [
       "                                                     Event  \\\n",
       "EventId                                                      \n",
       "1        prince william joined taylor swift jon bon jov...   \n",
       "10       sinn fein positioning mary lou mcdonald party ...   \n",
       "100      los angeles auto year unveiling large number e...   \n",
       "101      washin nov reuters thanksgiving traveler face ...   \n",
       "102      secretary general ban ki moon second round syr...   \n",
       "\n",
       "                                                text_clean  \n",
       "EventId                                                     \n",
       "1        prince william joined taylor swift jon bon jov...  \n",
       "10       sinn fein positioning mary lou mcdonald party ...  \n",
       "100      los angeles auto year unveiling large number e...  \n",
       "101      washin nov reuters thanksgiving traveler face ...  \n",
       "102      secretary general ban ki moon second round syr...  "
      ]
     },
     "execution_count": 14,
     "metadata": {},
     "output_type": "execute_result"
    }
   ],
   "source": [
    "df_train.head()"
   ]
  },
  {
   "cell_type": "markdown",
   "id": "8c634ba4-d0b9-4443-94e8-55ee94439c13",
   "metadata": {},
   "source": [
    "## Future Extraction using TF-IDF\n",
    "TF-IDFVectorizer is getting used for future extraction from text in the corpus. We can perform word count using CountVectorizer. then compute the Inverse Document Frequency (IDF) values and only then compute the Tf-idf scores. All these steps are getting done at once using TF-IDFVectorizer. \n",
    "Tf-Idf vectorizer is gettting used with a limit of 10,000 words for unigram and bigram. We will use the vectorizer on the preprocessed corpus of the train set to extract a vocabulary and create the feature matrix. The feature matrix X_train has a shape of 152 (Number of event details in training) x 10,000 (Length of vocabulary)"
   ]
  },
  {
   "cell_type": "code",
   "execution_count": 15,
   "id": "3315a5c4-f2dc-49b4-92c5-a3f292c278f4",
   "metadata": {},
   "outputs": [],
   "source": [
    "vectorizer = feature_extraction.text.TfidfVectorizer(max_features=10000, ngram_range=(1,2))\n",
    "\n",
    "corpus = df_train[\"text_clean\"]\n",
    "vectorizer.fit(corpus)\n",
    "X_train = vectorizer.transform(corpus)\n",
    "dict_vocabulary = vectorizer.vocabulary_"
   ]
  },
  {
   "cell_type": "code",
   "execution_count": 16,
   "id": "9046281d-da37-46ff-8d05-4f17e9450086",
   "metadata": {},
   "outputs": [
    {
     "data": {
      "text/plain": [
       "(152, 10000)"
      ]
     },
     "execution_count": 16,
     "metadata": {},
     "output_type": "execute_result"
    },
    {
     "data": {
      "image/png": "[encoded data removed]",
      "text/plain": [
       "<Figure size 432x288 with 1 Axes>"
      ]
     },
     "metadata": {
      "needs_background": "light"
     },
     "output_type": "display_data"
    }
   ],
   "source": [
    "sns.heatmap(X_train.todense()[:,np.random.randint(0,X_train.shape[1],100)]==0, vmin=0, vmax=1, cbar=False).set_title('Sparse Matrix Sample')\n",
    "X_train.shape"
   ]
  },
  {
   "cell_type": "markdown",
   "id": "51f20b0f-f1b3-4535-adf9-82b91aded259",
   "metadata": {},
   "source": [
    "Word 'los angeles' is the 5125th feature of the matrix for the given corpus. We can find position of the word as below:"
   ]
  },
  {
   "cell_type": "code",
   "execution_count": 17,
   "id": "bf26f639-7b46-43e4-a93a-53c7fbb6a7c9",
   "metadata": {},
   "outputs": [
    {
     "data": {
      "text/plain": [
       "5125"
      ]
     },
     "execution_count": 17,
     "metadata": {},
     "output_type": "execute_result"
    }
   ],
   "source": [
    "word = 'los angeles'\n",
    "dict_vocabulary[word]"
   ]
  },
  {
   "cell_type": "markdown",
   "id": "3810ff0c-23e3-44d9-b30e-b879f94ecb20",
   "metadata": {},
   "source": [
    "<h2> Word2Vec </h2>\n",
    "\n",
    "Let's proceed with our next word embedding approach using Word2Vec. The effectiveness of Word2Vec comes from its ability to group together vectors of similar words.Word2Vec can make strong estimates about a word’s meaning based on their occurrences in the text. These estimates yield word associations with other words in the corpus. "
   ]
  },
  {
   "cell_type": "code",
   "execution_count": 18,
   "id": "bac568ce-9651-4088-b987-4c42825a5cfe",
   "metadata": {},
   "outputs": [],
   "source": [
    "nlp = api.load(\"word2vec-google-news-300\")"
   ]
  },
  {
   "cell_type": "code",
   "execution_count": 19,
   "id": "6769530d-f8f3-45e4-a313-f508773d04b2",
   "metadata": {},
   "outputs": [],
   "source": [
    "corpus = df_train[\"text_clean\"]"
   ]
  },
  {
   "cell_type": "markdown",
   "id": "c7fbc3b4-fbb4-45e9-8212-90c5436009b9",
   "metadata": {},
   "source": [
    "Instead of using a pre-trained model, let's fit our own Word2Vec on the training data corpus with gensim.To do that,  the corpus needs to be transformed into a list of lists of n-grams."
   ]
  },
  {
   "cell_type": "code",
   "execution_count": 20,
   "id": "494721c9-f169-4057-b3e2-a1e465ffd3d1",
   "metadata": {},
   "outputs": [],
   "source": [
    "## create list of lists of unigrams\n",
    "lst_corpus = []\n",
    "for string in corpus:\n",
    "   lst_words = string.split()\n",
    "   lst_grams = [\" \".join(lst_words[i:i+1]) \n",
    "               for i in range(0, len(lst_words), 1)]\n",
    "   lst_corpus.append(lst_grams)\n",
    "\n",
    "## detect bigrams and trigrams\n",
    "bigrams_detector = models.phrases.Phrases(lst_corpus, delimiter=\" \", min_count=5, threshold=10)\n",
    "bigrams_detector = models.phrases.Phraser(bigrams_detector)\n",
    "\n",
    "trigrams_detector = models.phrases.Phrases(bigrams_detector[lst_corpus], \n",
    "            delimiter=\" \", min_count=5, threshold=10)\n",
    "trigrams_detector = models.phrases.Phraser(trigrams_detector)\n",
    "\n"
   ]
  },
  {
   "cell_type": "markdown",
   "id": "70a64a4a-a362-49b9-8a3d-6387710c8fc4",
   "metadata": {},
   "source": [
    "Word2Vec can be used two ways - using CBOW or Skip Gram. We are using skip Gram, starting from a single word to predict its context.\n",
    "Other Parameters Used : target size of the word vector as 300. epochs 30 and min count as 1."
   ]
  },
  {
   "cell_type": "code",
   "execution_count": 21,
   "id": "56ca23ce-7621-4065-9c41-66e895ee024b",
   "metadata": {},
   "outputs": [],
   "source": [
    "## fit w2v\n",
    "nlp = models.word2vec.Word2Vec(lst_corpus, vector_size=300, window=8, min_count=1, sg=1, epochs=30)"
   ]
  },
  {
   "cell_type": "markdown",
   "id": "29098451-ea5b-4066-b2fd-0a5fb19ebb5c",
   "metadata": {},
   "source": [
    "Now, we can select any word from the corpus and transform it into a vector. We have analyzed vectors for word 'prince' and 'doctor' as below."
   ]
  },
  {
   "cell_type": "code",
   "execution_count": 22,
   "id": "19c6db7d-69b7-4f22-a06b-fe5483c98413",
   "metadata": {},
   "outputs": [
    {
     "data": {
      "text/plain": [
       "(300,)"
      ]
     },
     "execution_count": 22,
     "metadata": {},
     "output_type": "execute_result"
    }
   ],
   "source": [
    "word = 'prince'\n",
    "# Store just the words + their trained embeddings.\n",
    "word_vectors = nlp.wv\n",
    "word_vectors.save(\"word2vec.wordvectors\")\n",
    "\n",
    "# Load back with memory-mapping = read-only, shared across processes.\n",
    "wv = KeyedVectors.load(\"word2vec.wordvectors\", mmap='r')\n",
    "\n",
    "vector = nlp.wv[word]  # Get numpy vector of a word\n",
    "vector.shape"
   ]
  },
  {
   "cell_type": "markdown",
   "id": "38d48a81-b126-4147-9ffb-0b62934036e3",
   "metadata": {},
   "source": [
    " Model generate 300-dimensional word vectors, and all we have to do to create a vector is to pass it through the model. Each vector looks like this:"
   ]
  },
  {
   "cell_type": "code",
   "execution_count": 23,
   "id": "57373ae0-a51c-469e-8d4b-c145230efb5d",
   "metadata": {},
   "outputs": [
    {
     "data": {
      "text/plain": [
       "array([-0.17920715,  0.11581378,  0.19139923,  0.22260459,  0.1611242 ,\n",
       "        0.09211816, -0.64953303, -0.01283085,  0.18364856,  0.3663048 ,\n",
       "       -0.45971456, -0.29638886,  0.1335355 , -0.3889886 ,  0.24520274,\n",
       "       -0.08817579, -0.23909177,  0.156992  , -0.11572943,  0.677644  ],\n",
       "      dtype=float32)"
      ]
     },
     "execution_count": 23,
     "metadata": {},
     "output_type": "execute_result"
    }
   ],
   "source": [
    "vector[:20]"
   ]
  },
  {
   "cell_type": "markdown",
   "id": "2e1d0356-f5df-45e7-8ad8-92816e6cfb14",
   "metadata": {},
   "source": [
    "<p>Let's visualize a word and its context into a smaller dimensional space and also using PCA, Principal Component Analysis, a statistical concept. We will observe here top 20 similar words for 'prince'.</p>"
   ]
  },
  {
   "cell_type": "code",
   "execution_count": 24,
   "id": "aeb95394-4e07-4d9e-a6d4-24af4dedb077",
   "metadata": {},
   "outputs": [
    {
     "data": {
      "text/plain": [
       "<Figure size 432x288 with 0 Axes>"
      ]
     },
     "metadata": {},
     "output_type": "display_data"
    }
   ],
   "source": [
    "fig = plt.figure()\n",
    "## word embedding\n",
    "tot_words = [word] + [tupla[0] for tupla in wv.most_similar(word, topn=20)]\n",
    "X = wv[tot_words]\n",
    "## pca to reduce dimensionality from 300 to 3\n",
    "pca = manifold.TSNE(perplexity=40, n_components=3, init='pca')\n",
    "X = pca.fit_transform(X)"
   ]
  },
  {
   "cell_type": "code",
   "execution_count": 25,
   "id": "d15721cf-942e-4195-b931-bd8bdbb0af7c",
   "metadata": {},
   "outputs": [],
   "source": [
    "## pca to reduce dimensionality from 300 to 3\n",
    "pca = manifold.TSNE(perplexity=40, n_components=3, init='pca')\n",
    "X = pca.fit_transform(X)"
   ]
  },
  {
   "cell_type": "code",
   "execution_count": 26,
   "id": "977225d1-47d2-4026-88c3-9049a3604255",
   "metadata": {},
   "outputs": [
    {
     "data": {
      "text/plain": [
       "prince        1\n",
       "william       0\n",
       "swift         0\n",
       "afters        0\n",
       "tabloid       0\n",
       "fodder        0\n",
       "favourite     0\n",
       "fore          0\n",
       "wail          0\n",
       "dignitary     0\n",
       "backstage     0\n",
       "cutie         0\n",
       "starstruck    0\n",
       "charmings     0\n",
       "pulse         0\n",
       "vaguely       0\n",
       "lifestyle     0\n",
       "mingled       0\n",
       "mingle        0\n",
       "sings         0\n",
       "fairytale     0\n",
       "Name: input, dtype: int64"
      ]
     },
     "execution_count": 26,
     "metadata": {},
     "output_type": "execute_result"
    }
   ],
   "source": [
    "## create dtf\n",
    "dtf_ = pd.DataFrame(X, index=tot_words, columns=[\"x\",\"y\",\"z\"])\n",
    "dtf_[\"input\"] = 0\n",
    "dtf_[\"input\"].iloc[0:1] = 1\n",
    "dtf_[\"input\"]"
   ]
  },
  {
   "cell_type": "code",
   "execution_count": 27,
   "id": "71c6fab9-e698-4551-b863-0444e42d9158",
   "metadata": {},
   "outputs": [
    {
     "data": {
      "image/png": "[encoded data removed]",
      "text/plain": [
       "<Figure size 1280x1600 with 1 Axes>"
      ]
     },
     "metadata": {
      "needs_background": "light"
     },
     "output_type": "display_data"
    }
   ],
   "source": [
    "## plot 3d\n",
    "\n",
    "fig=plt.figure(figsize=(16, 20), dpi=80)\n",
    "ax = fig.add_subplot(111, projection='3d')\n",
    "ax.scatter(dtf_[dtf_[\"input\"]==0]['x'], \n",
    "           dtf_[dtf_[\"input\"]==0]['y'], \n",
    "           dtf_[dtf_[\"input\"]==0]['z'], c=\"black\")\n",
    "ax.scatter(dtf_[dtf_[\"input\"]==1]['x'], \n",
    "           dtf_[dtf_[\"input\"]==1]['y'], \n",
    "           dtf_[dtf_[\"input\"]==1]['z'], c=\"red\")\n",
    "ax.set(xlabel=None, ylabel=None, zlabel=None, xticklabels=[], \n",
    "       yticklabels=[], zticklabels=[])\n",
    "for label, row in dtf_[[\"x\",\"y\",\"z\"]].iterrows():\n",
    "    x, y, z = row\n",
    "    ax.text(x, y, z, s=label)\n",
    "plt.show()"
   ]
  },
  {
   "cell_type": "code",
   "execution_count": 28,
   "id": "c1ae70a3-6ab9-4c0e-9373-82d95bb75325",
   "metadata": {},
   "outputs": [
    {
     "data": {
      "text/plain": [
       "(300,)"
      ]
     },
     "execution_count": 28,
     "metadata": {},
     "output_type": "execute_result"
    }
   ],
   "source": [
    "word = 'doctor'\n",
    "# Store just the words + their trained embeddings.\n",
    "word_vectors = nlp.wv\n",
    "word_vectors.save(\"word2vec.wordvectors\")\n",
    "\n",
    "# Load back with memory-mapping = read-only, shared across processes.\n",
    "wv = KeyedVectors.load(\"word2vec.wordvectors\", mmap='r')\n",
    "\n",
    "vector = wv[word]  # Get numpy vector of a word\n",
    "vector.shape"
   ]
  },
  {
   "cell_type": "code",
   "execution_count": 29,
   "id": "2f37f68c-bc95-40e6-a427-74c2ba991c8d",
   "metadata": {},
   "outputs": [
    {
     "data": {
      "text/plain": [
       "<Figure size 432x288 with 0 Axes>"
      ]
     },
     "metadata": {},
     "output_type": "display_data"
    }
   ],
   "source": [
    "fig = plt.figure()\n",
    "## word embedding\n",
    "tot_words = [word] + [tupla[0] for tupla in nlp.wv.most_similar(word, topn=20)]\n",
    "X = wv[tot_words]\n",
    "## pca to reduce dimensionality from 300 to 3\n",
    "pca = manifold.TSNE(perplexity=40, n_components=3, init='pca')\n",
    "X = pca.fit_transform(X)"
   ]
  },
  {
   "cell_type": "code",
   "execution_count": 30,
   "id": "a1afe0da-1990-4a4b-820d-2d4c513a381b",
   "metadata": {},
   "outputs": [],
   "source": [
    "## pca to reduce dimensionality from 300 to 3\n",
    "pca = manifold.TSNE(perplexity=40, n_components=3, init='pca')\n",
    "X = pca.fit_transform(X)"
   ]
  },
  {
   "cell_type": "code",
   "execution_count": 31,
   "id": "452cd4b7-f0db-4e19-83eb-bf7b66575ae4",
   "metadata": {},
   "outputs": [
    {
     "data": {
      "text/plain": [
       "doctor           1\n",
       "accurately       0\n",
       "rely             0\n",
       "remodeling       0\n",
       "misdiagnosing    0\n",
       "drastic          0\n",
       "organ            0\n",
       "tga              0\n",
       "reticence        0\n",
       "symptom          0\n",
       "minimally        0\n",
       "aching           0\n",
       "reliable         0\n",
       "invasive         0\n",
       "nausea           0\n",
       "diagnosing       0\n",
       "fainting         0\n",
       "smu              0\n",
       "ami              0\n",
       "cpcs             0\n",
       "evaluating       0\n",
       "Name: input, dtype: int64"
      ]
     },
     "execution_count": 31,
     "metadata": {},
     "output_type": "execute_result"
    }
   ],
   "source": [
    "## create dtf\n",
    "dtf_ = pd.DataFrame(X, index=tot_words, columns=[\"x\",\"y\",\"z\"])\n",
    "dtf_[\"input\"] = 0\n",
    "dtf_[\"input\"].iloc[0:1] = 1\n",
    "dtf_[\"input\"]"
   ]
  },
  {
   "cell_type": "markdown",
   "id": "c76c062c-2600-4914-a2cf-d6ed120865de",
   "metadata": {},
   "source": [
    "words of the same context usually appear together in the corpus, so they will be close in the vector space as well. Let's see closer words for word doctor."
   ]
  },
  {
   "cell_type": "code",
   "execution_count": 32,
   "id": "4bc5ce9d-94cb-438b-8fb9-2c01eece4145",
   "metadata": {},
   "outputs": [
    {
     "data": {
      "image/png": "[encoded data removed]",
      "text/plain": [
       "<Figure size 1280x1600 with 1 Axes>"
      ]
     },
     "metadata": {
      "needs_background": "light"
     },
     "output_type": "display_data"
    }
   ],
   "source": [
    "## plot 3d\n",
    "\n",
    "fig=plt.figure(figsize=(16, 20), dpi=80)\n",
    "ax = fig.add_subplot(111, projection='3d')\n",
    "ax.scatter(dtf_[dtf_[\"input\"]==0]['x'], \n",
    "           dtf_[dtf_[\"input\"]==0]['y'], \n",
    "           dtf_[dtf_[\"input\"]==0]['z'], c=\"black\")\n",
    "ax.scatter(dtf_[dtf_[\"input\"]==1]['x'], \n",
    "           dtf_[dtf_[\"input\"]==1]['y'], \n",
    "           dtf_[dtf_[\"input\"]==1]['z'], c=\"red\")\n",
    "ax.set(xlabel=None, ylabel=None, zlabel=None, xticklabels=[], \n",
    "       yticklabels=[], zticklabels=[])\n",
    "for label, row in dtf_[[\"x\",\"y\",\"z\"]].iterrows():\n",
    "    x, y, z = row\n",
    "    ax.text(x, y, z, s=label)\n",
    "plt.show()"
   ]
  },
  {
   "cell_type": "code",
   "execution_count": 33,
   "id": "149987a2-4331-4d71-a0d9-c09cfe1fb8a4",
   "metadata": {},
   "outputs": [
    {
     "data": {
      "text/plain": [
       "[('accurately', 0.7069507837295532),\n",
       " ('rely', 0.7054293155670166),\n",
       " ('remodeling', 0.6954332590103149),\n",
       " ('misdiagnosing', 0.6919781565666199),\n",
       " ('drastic', 0.6855782270431519),\n",
       " ('organ', 0.6808496117591858),\n",
       " ('tga', 0.6807075142860413),\n",
       " ('reticence', 0.6806683540344238),\n",
       " ('symptom', 0.6758934855461121),\n",
       " ('minimally', 0.6729491949081421)]"
      ]
     },
     "execution_count": 33,
     "metadata": {},
     "output_type": "execute_result"
    }
   ],
   "source": [
    "nlp.wv.most_similar('doctor')"
   ]
  },
  {
   "cell_type": "code",
   "execution_count": 34,
   "id": "077f9f58-e300-4f75-b754-133440b14c27",
   "metadata": {},
   "outputs": [],
   "source": [
    "v1 = nlp.wv['doctor']\n",
    "v2 = nlp.wv['terminator']"
   ]
  },
  {
   "cell_type": "markdown",
   "id": "f9906e61-c5a3-430f-b59c-e6eeb7ef3fd9",
   "metadata": {},
   "source": [
    "Define a function that computes cosine similarity between two words"
   ]
  },
  {
   "cell_type": "code",
   "execution_count": 35,
   "id": "6cfffc9f-87e8-4f3c-9d8c-d6cdaf87f4b4",
   "metadata": {},
   "outputs": [],
   "source": [
    "\n",
    "def cosine_similarity(v1, v2):\n",
    "    return 1 - spatial.distance.cosine(v1, v2)"
   ]
  },
  {
   "cell_type": "code",
   "execution_count": 36,
   "id": "8109a084-383d-4e6e-b6ad-d8bbbee064eb",
   "metadata": {},
   "outputs": [
    {
     "data": {
      "text/plain": [
       "0.6281368732452393"
      ]
     },
     "execution_count": 36,
     "metadata": {},
     "output_type": "execute_result"
    }
   ],
   "source": [
    "cosine_similarity(v1, v2)"
   ]
  },
  {
   "cell_type": "markdown",
   "id": "5a09fa01-30f4-401a-ac63-a1115cf51a1e",
   "metadata": {},
   "source": [
    "As per below, we can observe the most similar word for wonderful is goodwill."
   ]
  },
  {
   "cell_type": "code",
   "execution_count": 37,
   "id": "92669144-f42e-454a-bd0f-1a4f66b09801",
   "metadata": {},
   "outputs": [
    {
     "data": {
      "text/plain": [
       "[('goodwill', 0.7510992288589478),\n",
       " ('marchese', 0.7018572092056274),\n",
       " ('darci', 0.6873044967651367),\n",
       " ('graced', 0.6627485156059265),\n",
       " ('funnyman', 0.6613364815711975),\n",
       " ('wtop', 0.6503225564956665),\n",
       " ('anticipation', 0.647483229637146),\n",
       " ('mishmash', 0.6391597390174866),\n",
       " ('characterized', 0.6370545029640198),\n",
       " ('thanksgivuk', 0.6369292140007019)]"
      ]
     },
     "execution_count": 37,
     "metadata": {},
     "output_type": "execute_result"
    }
   ],
   "source": [
    "nlp.wv.most_similar('wonderful')"
   ]
  },
  {
   "cell_type": "markdown",
   "id": "63f0e8de-1aec-4fe6-8666-ab3308b59d6a",
   "metadata": {},
   "source": [
    "<h2> Using Bert </h2>\n",
    "\n",
    "A same word with different meanings is the big challange for word embedding. This has been overcome by Language Models. Google’s Bidirectional Encoder Representations from Transformers, BERT, combines contextual embedding, several transformers and bidirectional. "
   ]
  },
  {
   "cell_type": "code",
   "execution_count": 38,
   "id": "395260f5-3540-4781-a858-8e8248997702",
   "metadata": {},
   "outputs": [],
   "source": [
    "import transformers\n"
   ]
  },
  {
   "cell_type": "markdown",
   "id": "b0602c18-1a4f-4a5a-8f32-0b7e75e56312",
   "metadata": {},
   "source": [
    "Let's see Bert Tokenizer and TFBertModel implementation. Bert performs preprocessing data step implicitly."
   ]
  },
  {
   "cell_type": "code",
   "execution_count": 39,
   "id": "a30d8e55-c811-4b30-abfc-ebef8ab7d188",
   "metadata": {},
   "outputs": [
    {
     "name": "stderr",
     "output_type": "stream",
     "text": [
      "Some layers from the model checkpoint at bert-base-uncased were not used when initializing TFBertModel: ['mlm___cls', 'nsp___cls']\n",
      "- This IS expected if you are initializing TFBertModel from the checkpoint of a model trained on another task or with another architecture (e.g. initializing a BertForSequenceClassification model from a BertForPreTraining model).\n",
      "- This IS NOT expected if you are initializing TFBertModel from the checkpoint of a model that you expect to be exactly identical (initializing a BertForSequenceClassification model from a BertForSequenceClassification model).\n",
      "All the layers of TFBertModel were initialized from the model checkpoint at bert-base-uncased.\n",
      "If your task is similar to the task the model of the checkpoint was trained on, you can already use TFBertModel for predictions without further training.\n"
     ]
    },
    {
     "data": {
      "text/plain": [
       "<tf.Tensor: shape=(4, 768), dtype=float32, numpy=\n",
       "array([[ 1.8074792e-03, -4.4481792e-02, -1.2863439e-01, ...,\n",
       "        -3.7585366e-01,  2.8275689e-01, -1.8261930e-02],\n",
       "       [ 6.5991074e-02, -2.8551918e-01, -1.2060338e-01, ...,\n",
       "        -4.2068851e-01,  4.5877683e-01, -1.3699518e+00],\n",
       "       [-5.4620743e-01, -9.5824711e-02, -1.1092575e-01, ...,\n",
       "        -4.1438779e-01, -5.5581594e-01, -2.0355849e+00],\n",
       "       [ 7.9150450e-01,  6.8231232e-02, -2.5179222e-01, ...,\n",
       "         8.5514545e-02, -7.6887769e-01, -1.3827649e-01]], dtype=float32)>"
      ]
     },
     "execution_count": 39,
     "metadata": {},
     "output_type": "execute_result"
    }
   ],
   "source": [
    "txt = \"los angeles\"\n",
    "\n",
    "## bert tokenizer\n",
    "tokenizer = transformers.BertTokenizer.from_pretrained('bert-base-uncased', do_lower_case=True)\n",
    "## bert model\n",
    "nlp = transformers.TFBertModel.from_pretrained('bert-base-uncased')\n",
    "## return hidden layer with embeddings\n",
    "input_ids = np.array(tokenizer.encode(txt))[None,:]  \n",
    "embedding = nlp(input_ids)\n",
    "embedding[0][0]"
   ]
  },
  {
   "cell_type": "markdown",
   "id": "92455822-91ea-481f-a705-fbcd0c2eb250",
   "metadata": {},
   "source": [
    "Bert uses same length sentences by masking and adding padding. It uses specialized tokens as [CLS] before starting sentence and [SEP] at the end of the sentence, also [PAD] for the additional sentence length. Masking has been done tokens gets created. [PAD] will get token assigned as zero so it will not be a important feature of the sentence and same way [CLS], [SEP] will also have specific 101, 102 token to understand the sentence start and end. "
   ]
  },
  {
   "cell_type": "code",
   "execution_count": 40,
   "id": "5cd0bf1a-f5e4-4154-b843-6ad0e22c145d",
   "metadata": {},
   "outputs": [],
   "source": [
    "corpus = df_train[\"Event\"]\n",
    "maxlen = 50\n",
    "\n",
    "## add special tokens\n",
    "maxqnans = np.int((maxlen-20)/2)\n",
    "corpus_tokenized = [\"[CLS] \"+\n",
    "             \" \".join(tokenizer.tokenize(re.sub(r'[^\\w\\s]+|\\n', '', \n",
    "             str(txt).lower().strip()))[:maxqnans])+\n",
    "             \" [SEP] \" for txt in corpus]\n",
    "\n",
    "## generate masks\n",
    "masks = [[1]*len(txt.split(\" \")) + [0]*(maxlen - len(\n",
    "           txt.split(\" \"))) for txt in corpus_tokenized]\n",
    "    \n",
    "## padding\n",
    "txt2seq = [txt + \" [PAD]\"*(maxlen-len(txt.split(\" \"))) if len(txt.split(\" \")) != maxlen else txt for txt in corpus_tokenized]\n",
    "    \n",
    "## generate idx\n",
    "idx = [tokenizer.encode(seq.split(\" \")) for seq in txt2seq]\n",
    "    \n",
    "## generate segments\n",
    "segments = [] \n",
    "for seq in txt2seq:\n",
    "    temp, i = [], 0\n",
    "    for token in seq.split(\" \"):\n",
    "        temp.append(i)\n",
    "        if token == \"[SEP]\":\n",
    "             i += 1\n",
    "    segments.append(temp)\n",
    "    \n",
    "## feature matrix\n",
    "X_train = [np.asarray(idx, dtype='int32'), \n",
    "           np.asarray(masks, dtype='int32'), \n",
    "           np.asarray(segments, dtype='int32')]"
   ]
  },
  {
   "cell_type": "code",
   "execution_count": 41,
   "id": "69f41a19-bb47-4466-ae41-6e1422d71a9d",
   "metadata": {},
   "outputs": [
    {
     "name": "stdout",
     "output_type": "stream",
     "text": [
      "tokenized: ['[CLS]', '[CLS]', 'prince', 'william', 'joined', 'taylor', 'swift', 'jon', 'bon', 'jo', '##vi', 'stage', 'impromptu', 'performance', 'event', 'image', 'courtesy', '[SEP]', '[UNK]', '[PAD]', '[PAD]', '[PAD]', '[PAD]', '[PAD]', '[PAD]', '[PAD]', '[PAD]', '[PAD]', '[PAD]', '[PAD]', '[PAD]', '[PAD]', '[PAD]', '[PAD]', '[PAD]', '[PAD]', '[PAD]', '[PAD]', '[PAD]', '[PAD]', '[PAD]', '[PAD]', '[PAD]', '[PAD]', '[PAD]', '[PAD]', '[PAD]', '[PAD]', '[PAD]', '[PAD]', '[PAD]', '[SEP]']\n",
      "idx:  [  101   101  3159  2520  2587  4202  9170  6285 14753  8183  5737  2754\n",
      " 29213  2836  2724  3746 14571   102   100     0     0     0     0     0\n",
      "     0     0     0     0     0     0     0     0     0     0     0     0\n",
      "     0     0     0     0     0     0     0     0     0     0     0     0\n",
      "     0     0     0   102]\n",
      "mask:  [1 1 1 1 1 1 1 1 1 1 1 1 1 1 1 1 1 1 0 0 0 0 0 0 0 0 0 0 0 0 0 0 0 0 0 0 0\n",
      " 0 0 0 0 0 0 0 0 0 0 0 0 0]\n",
      "segment:  [0 0 0 0 0 0 0 0 0 0 0 0 0 0 0 0 0 1 1 1 1 1 1 1 1 1 1 1 1 1 1 1 1 1 1 1 1\n",
      " 1 1 1 1 1 1 1 1 1 1 1 1 1]\n"
     ]
    }
   ],
   "source": [
    "i = 0\n",
    "#print(\"txt: \", df_train[\"Event\"].iloc[0])\n",
    "print(\"tokenized:\", [tokenizer.convert_ids_to_tokens(idx) for idx in X_train[0][i].tolist()])\n",
    "print(\"idx: \", X_train[0][i])\n",
    "print(\"mask: \", X_train[1][i])\n",
    "print(\"segment: \", X_train[2][i])"
   ]
  },
  {
   "cell_type": "code",
   "execution_count": 42,
   "id": "0fe1c08e-b891-4235-85fe-7f64c3d7c800",
   "metadata": {},
   "outputs": [],
   "source": [
    "## for deep learning\n",
    "from tensorflow.keras import models, layers, preprocessing as kprocessing\n",
    "from tensorflow.keras import backend as K\n"
   ]
  },
  {
   "cell_type": "markdown",
   "id": "4adbdc52-7081-4e24-a99f-b307b9accabe",
   "metadata": {},
   "source": [
    "<h2>Distil-BERT</h2>\n",
    "\n",
    "We will now see the lighter version of language model, Distil-BERT. We will start everything from scratch to implement this. "
   ]
  },
  {
   "cell_type": "markdown",
   "id": "cb045e24-d6b9-4ec8-af16-9da87c89e505",
   "metadata": {},
   "source": [
    "The vector BERT assigns to a word is a function of the entire sentence, therefore, a word can have different vectors based on the contexts. We will do transfer learning from a pre-trained lighter version of BERT, called Distil-BERT "
   ]
  },
  {
   "cell_type": "markdown",
   "id": "a810c473-ca81-4d36-a47a-cd332b7adef8",
   "metadata": {},
   "source": [
    "<h2> Lighter version of Bert</h2>\n",
    "\n",
    "Below we are using hyper parameters as:\n",
    "<ul>dropout rate = 0.2, </ul>\n",
    "<ul>activation = relu, </ul>\n",
    "<ul>Dense layers = 64 </ul>\n",
    "<ul>Pooling = GlobalAveragePooling1D.</ul>\n",
    "<ul>loss = sparse_categorical_crossentropy, </ul>\n",
    "<ul>optimizer = adam </ul>\n",
    "<ul>metrics = accuracy </ul>\n",
    "\n",
    "We see trainable parameters are 70,601\n"
   ]
  },
  {
   "cell_type": "code",
   "execution_count": 43,
   "id": "88f1e391-3d66-4ab1-817d-2cbf6ee30e3f",
   "metadata": {},
   "outputs": [
    {
     "name": "stderr",
     "output_type": "stream",
     "text": [
      "Some layers from the model checkpoint at distilbert-base-uncased were not used when initializing TFDistilBertModel: ['vocab_projector', 'vocab_transform', 'vocab_layer_norm', 'activation_13']\n",
      "- This IS expected if you are initializing TFDistilBertModel from the checkpoint of a model trained on another task or with another architecture (e.g. initializing a BertForSequenceClassification model from a BertForPreTraining model).\n",
      "- This IS NOT expected if you are initializing TFDistilBertModel from the checkpoint of a model that you expect to be exactly identical (initializing a BertForSequenceClassification model from a BertForSequenceClassification model).\n",
      "All the layers of TFDistilBertModel were initialized from the model checkpoint at distilbert-base-uncased.\n",
      "If your task is similar to the task the model of the checkpoint was trained on, you can already use TFDistilBertModel for predictions without further training.\n"
     ]
    },
    {
     "name": "stdout",
     "output_type": "stream",
     "text": [
      "WARNING:tensorflow:AutoGraph could not transform <bound method TFDistilBertModel.call of <transformers.models.distilbert.modeling_tf_distilbert.TFDistilBertModel object at 0x00000228A6C27AC0>> and will run it as-is.\n",
      "Please report this to the TensorFlow team. When filing the bug, set the verbosity to 10 (on Linux, `export AUTOGRAPH_VERBOSITY=10`) and attach the full output.\n",
      "Cause: module 'gast' has no attribute 'Index'\n",
      "To silence this warning, decorate the function with @tf.autograph.experimental.do_not_convert\n",
      "WARNING: AutoGraph could not transform <bound method TFDistilBertModel.call of <transformers.models.distilbert.modeling_tf_distilbert.TFDistilBertModel object at 0x00000228A6C27AC0>> and will run it as-is.\n",
      "Please report this to the TensorFlow team. When filing the bug, set the verbosity to 10 (on Linux, `export AUTOGRAPH_VERBOSITY=10`) and attach the full output.\n",
      "Cause: module 'gast' has no attribute 'Index'\n",
      "To silence this warning, decorate the function with @tf.autograph.experimental.do_not_convert\n",
      "WARNING:tensorflow:AutoGraph could not transform <bound method TFDistilBertMainLayer.call of <transformers.models.distilbert.modeling_tf_distilbert.TFDistilBertMainLayer object at 0x00000228BC844C40>> and will run it as-is.\n",
      "Please report this to the TensorFlow team. When filing the bug, set the verbosity to 10 (on Linux, `export AUTOGRAPH_VERBOSITY=10`) and attach the full output.\n",
      "Cause: module 'gast' has no attribute 'Index'\n",
      "To silence this warning, decorate the function with @tf.autograph.experimental.do_not_convert\n",
      "WARNING: AutoGraph could not transform <bound method TFDistilBertMainLayer.call of <transformers.models.distilbert.modeling_tf_distilbert.TFDistilBertMainLayer object at 0x00000228BC844C40>> and will run it as-is.\n",
      "Please report this to the TensorFlow team. When filing the bug, set the verbosity to 10 (on Linux, `export AUTOGRAPH_VERBOSITY=10`) and attach the full output.\n",
      "Cause: module 'gast' has no attribute 'Index'\n",
      "To silence this warning, decorate the function with @tf.autograph.experimental.do_not_convert\n",
      "WARNING:tensorflow:AutoGraph could not transform <bound method TFEmbeddings.call of <transformers.models.distilbert.modeling_tf_distilbert.TFEmbeddings object at 0x00000228BC8445B0>> and will run it as-is.\n",
      "Please report this to the TensorFlow team. When filing the bug, set the verbosity to 10 (on Linux, `export AUTOGRAPH_VERBOSITY=10`) and attach the full output.\n",
      "Cause: module 'gast' has no attribute 'Index'\n",
      "To silence this warning, decorate the function with @tf.autograph.experimental.do_not_convert\n",
      "WARNING: AutoGraph could not transform <bound method TFEmbeddings.call of <transformers.models.distilbert.modeling_tf_distilbert.TFEmbeddings object at 0x00000228BC8445B0>> and will run it as-is.\n",
      "Please report this to the TensorFlow team. When filing the bug, set the verbosity to 10 (on Linux, `export AUTOGRAPH_VERBOSITY=10`) and attach the full output.\n",
      "Cause: module 'gast' has no attribute 'Index'\n",
      "To silence this warning, decorate the function with @tf.autograph.experimental.do_not_convert\n",
      "WARNING:tensorflow:AutoGraph could not transform <bound method TFTransformer.call of <transformers.models.distilbert.modeling_tf_distilbert.TFTransformer object at 0x00000228BC82F190>> and will run it as-is.\n",
      "Please report this to the TensorFlow team. When filing the bug, set the verbosity to 10 (on Linux, `export AUTOGRAPH_VERBOSITY=10`) and attach the full output.\n",
      "Cause: module 'gast' has no attribute 'Index'\n",
      "To silence this warning, decorate the function with @tf.autograph.experimental.do_not_convert\n",
      "WARNING: AutoGraph could not transform <bound method TFTransformer.call of <transformers.models.distilbert.modeling_tf_distilbert.TFTransformer object at 0x00000228BC82F190>> and will run it as-is.\n",
      "Please report this to the TensorFlow team. When filing the bug, set the verbosity to 10 (on Linux, `export AUTOGRAPH_VERBOSITY=10`) and attach the full output.\n",
      "Cause: module 'gast' has no attribute 'Index'\n",
      "To silence this warning, decorate the function with @tf.autograph.experimental.do_not_convert\n",
      "WARNING:tensorflow:AutoGraph could not transform <bound method TFTransformerBlock.call of <transformers.models.distilbert.modeling_tf_distilbert.TFTransformerBlock object at 0x00000228BC82F400>> and will run it as-is.\n",
      "Please report this to the TensorFlow team. When filing the bug, set the verbosity to 10 (on Linux, `export AUTOGRAPH_VERBOSITY=10`) and attach the full output.\n",
      "Cause: module 'gast' has no attribute 'Index'\n",
      "To silence this warning, decorate the function with @tf.autograph.experimental.do_not_convert\n",
      "WARNING: AutoGraph could not transform <bound method TFTransformerBlock.call of <transformers.models.distilbert.modeling_tf_distilbert.TFTransformerBlock object at 0x00000228BC82F400>> and will run it as-is.\n",
      "Please report this to the TensorFlow team. When filing the bug, set the verbosity to 10 (on Linux, `export AUTOGRAPH_VERBOSITY=10`) and attach the full output.\n",
      "Cause: module 'gast' has no attribute 'Index'\n",
      "To silence this warning, decorate the function with @tf.autograph.experimental.do_not_convert\n",
      "WARNING:tensorflow:AutoGraph could not transform <bound method TFMultiHeadSelfAttention.call of <transformers.models.distilbert.modeling_tf_distilbert.TFMultiHeadSelfAttention object at 0x00000228BC82F880>> and will run it as-is.\n",
      "Please report this to the TensorFlow team. When filing the bug, set the verbosity to 10 (on Linux, `export AUTOGRAPH_VERBOSITY=10`) and attach the full output.\n",
      "Cause: module 'gast' has no attribute 'Index'\n",
      "To silence this warning, decorate the function with @tf.autograph.experimental.do_not_convert\n",
      "WARNING: AutoGraph could not transform <bound method TFMultiHeadSelfAttention.call of <transformers.models.distilbert.modeling_tf_distilbert.TFMultiHeadSelfAttention object at 0x00000228BC82F880>> and will run it as-is.\n",
      "Please report this to the TensorFlow team. When filing the bug, set the verbosity to 10 (on Linux, `export AUTOGRAPH_VERBOSITY=10`) and attach the full output.\n",
      "Cause: module 'gast' has no attribute 'Index'\n",
      "To silence this warning, decorate the function with @tf.autograph.experimental.do_not_convert\n",
      "Model: \"functional_1\"\n",
      "__________________________________________________________________________________________________\n",
      "Layer (type)                    Output Shape         Param #     Connected to                     \n",
      "==================================================================================================\n",
      "input_idx (InputLayer)          [(None, 50)]         0                                            \n",
      "__________________________________________________________________________________________________\n",
      "input_masks (InputLayer)        [(None, 50)]         0                                            \n",
      "__________________________________________________________________________________________________\n",
      "tf_distil_bert_model (TFDistilB TFBaseModelOutput(la 66362880    input_idx[0][0]                  \n",
      "                                                                 input_masks[0][0]                \n",
      "__________________________________________________________________________________________________\n",
      "global_average_pooling1d (Globa (None, 768)          0           tf_distil_bert_model[0][0]       \n",
      "__________________________________________________________________________________________________\n",
      "dense (Dense)                   (None, 64)           49216       global_average_pooling1d[0][0]   \n",
      "__________________________________________________________________________________________________\n",
      "dense_1 (Dense)                 (None, 177)          11505       dense[0][0]                      \n",
      "==================================================================================================\n",
      "Total params: 66,423,601\n",
      "Trainable params: 60,721\n",
      "Non-trainable params: 66,362,880\n",
      "__________________________________________________________________________________________________\n"
     ]
    }
   ],
   "source": [
    "## inputs\n",
    "idx = layers.Input((50), dtype=\"int32\", name=\"input_idx\")\n",
    "masks = layers.Input((50), dtype=\"int32\", name=\"input_masks\")\n",
    "## pre-trained bert with config\n",
    "config = transformers.DistilBertConfig(dropout=0.2, attention_dropout=0.2)\n",
    "\n",
    "config.output_hidden_states = False\n",
    "nlp = transformers.TFDistilBertModel.from_pretrained('distilbert-base-uncased', config=config)\n",
    "bert_out = nlp(idx, attention_mask=masks)[0]\n",
    "\n",
    "## fine-tuning\n",
    "x = layers.GlobalAveragePooling1D()(bert_out)\n",
    "x = layers.Dense(64, activation=\"relu\")(x)\n",
    "y_out = layers.Dense(len(np.unique(df_train)), \n",
    "                     activation='softmax')(x)\n",
    "## compile\n",
    "model = models.Model([idx, masks], y_out)\n",
    "for layer in model.layers[:3]:\n",
    "    layer.trainable = False\n",
    "model.compile(loss='sparse_categorical_crossentropy', \n",
    "              optimizer='adam', metrics=['accuracy'])\n",
    "model.summary()"
   ]
  },
  {
   "cell_type": "markdown",
   "id": "9758edf7-9738-46e4-85b1-11560eefbca8",
   "metadata": {},
   "source": [
    "<h2>Deep learning model with transfer learning from the pre-trained BERT</h2>"
   ]
  },
  {
   "cell_type": "code",
   "execution_count": 44,
   "id": "ea0607f5-dbff-408e-b101-e538fb25beba",
   "metadata": {},
   "outputs": [],
   "source": [
    "f = open('train.json', \"r\")\n",
    "\n",
    "data = json.loads(f.read())\n",
    "#type(data)\n",
    "\n",
    "df_train = pd.DataFrame.from_dict(data.items())\n",
    "df_train.columns = ['Event', 'EventId']"
   ]
  },
  {
   "cell_type": "code",
   "execution_count": 45,
   "id": "27bb7d28-161d-487b-848d-c3cce4c0af1c",
   "metadata": {},
   "outputs": [
    {
     "data": {
      "text/plain": [
       "0       net lived lofty expectation month basketball l...\n",
       "1       duck time allowing goal game season instance s...\n",
       "2       invezz wednesday november hewlett packard nyse...\n",
       "3       nov photo provided george loegering large spin...\n",
       "4       actress jennifer love hewitt birth baby girl n...\n",
       "                              ...                        \n",
       "5624    bygone damsel distress talking cinderella snow...\n",
       "5625    abu dhabi national day firework programme expa...\n",
       "5626    men woman experience post sex regret wildly re...\n",
       "5627    dim outlook traditional desktop pc day slight ...\n",
       "5628    investor braced bad news veteran computer firm...\n",
       "Name: Event, Length: 5629, dtype: object"
      ]
     },
     "execution_count": 45,
     "metadata": {},
     "output_type": "execute_result"
    }
   ],
   "source": [
    "df_train['Event']"
   ]
  },
  {
   "cell_type": "code",
   "execution_count": 46,
   "id": "21e5e664-6c40-4b4d-a304-a68b0b354881",
   "metadata": {},
   "outputs": [],
   "source": [
    "import torch\n",
    "from transformers import BertTokenizer, BertModel\n",
    "\n",
    "# OPTIONAL: if you want to have more information on what's happening, activate the logger as follows\n",
    "import logging\n",
    "#logging.basicConfig(level=logging.INFO)\n",
    "\n",
    "import matplotlib.pyplot as plt\n",
    "\n",
    "\n",
    "# Load pre-trained model tokenizer (vocabulary)\n",
    "tokenizer = BertTokenizer.from_pretrained('bert-base-uncased')"
   ]
  },
  {
   "cell_type": "code",
   "execution_count": 47,
   "id": "56f5e8d2-40ea-4f27-84c8-75d04c25ac35",
   "metadata": {},
   "outputs": [],
   "source": [
    "tokenized_text = [tokenizer.convert_tokens_to_ids([\"[CLS]\"] + text.split(' ')[:511] + [\"[SEP]\"]) for text in list(df_train['Event'])]\n",
    "seq = []\n",
    "for id in tokenized_text:\n",
    "    seq += [' '.join([str(i) for i in id])]\n",
    "    \n",
    "\n",
    "    "
   ]
  },
  {
   "cell_type": "code",
   "execution_count": 48,
   "id": "383a1bf7-e52b-4a1e-b666-7b7a9f2d05f1",
   "metadata": {},
   "outputs": [
    {
     "name": "stderr",
     "output_type": "stream",
     "text": [
      "Some weights of the model checkpoint at bert-base-uncased were not used when initializing BertModel: ['cls.predictions.bias', 'cls.predictions.transform.dense.bias', 'cls.seq_relationship.weight', 'cls.predictions.transform.LayerNorm.bias', 'cls.predictions.transform.dense.weight', 'cls.predictions.decoder.weight', 'cls.seq_relationship.bias', 'cls.predictions.transform.LayerNorm.weight']\n",
      "- This IS expected if you are initializing BertModel from the checkpoint of a model trained on another task or with another architecture (e.g. initializing a BertForSequenceClassification model from a BertForPreTraining model).\n",
      "- This IS NOT expected if you are initializing BertModel from the checkpoint of a model that you expect to be exactly identical (initializing a BertForSequenceClassification model from a BertForSequenceClassification model).\n"
     ]
    },
    {
     "name": "stdout",
     "output_type": "stream",
     "text": [
      "[CLS]           101     1\n",
      "net           5,658     1\n",
      "lived         2,973     1\n",
      "loft         19,459     1\n",
      "##y           2,100     1\n",
      "expectation  17,626     1\n",
      "month         3,204     1\n",
      "basketball    3,455     1\n",
      "long          2,146     1\n",
      "shot          2,915     1\n",
      "team          2,136     1\n",
      "utilized     12,550     1\n",
      "expected      3,517     1\n",
      "bench         6,847     1\n",
      "player        2,447     1\n",
      "averaging    14,985     1\n",
      "minute        3,371     1\n",
      "[SEP]           102     1\n",
      "[CLS]           101     2\n",
      "duck          9,457     2\n",
      "time          2,051     2\n",
      "allowing      4,352     2\n",
      "goal          3,125     2\n",
      "game          2,208     2\n",
      "season        2,161     2\n",
      "instance      6,013     2\n",
      "season        2,161     2\n",
      "opener       16,181     2\n",
      "avalanche    18,846     2\n",
      "oct          13,323     2\n"
     ]
    }
   ],
   "source": [
    "import warnings\n",
    "warnings.filterwarnings('ignore')\n",
    "warnings.simplefilter('ignore')\n",
    "\n",
    "\n",
    "# Load pre-trained model (weights)\n",
    "model = BertModel.from_pretrained('bert-base-uncased',\n",
    "                                  output_hidden_states = True, # Whether the model returns all hidden-states.\n",
    "                                  )\n",
    "\n",
    "# Put the model in \"evaluation\" mode, meaning feed-forward operation.\n",
    "model.eval()\n",
    "\n",
    "\n",
    "# define required arrays to store\n",
    "tokenized_text_arr = []\n",
    "indexed_tokens_arr = []\n",
    "segments_ids_arr = []\n",
    "#outputs_arr = []\n",
    "cnt = 1\n",
    "\n",
    "for text in list(df_train['Event']):\n",
    "    marked_text = \"[CLS] \" + text + \" [SEP]\"\n",
    "    tokenized_text = tokenizer.tokenize(marked_text)\n",
    "    indexed_tokens = tokenizer.convert_tokens_to_ids(tokenized_text)\n",
    "    segments_ids = [cnt] * len(tokenized_text)\n",
    "    tokenized_text_arr += tokenized_text\n",
    "    indexed_tokens_arr += indexed_tokens\n",
    "    segments_ids_arr += segments_ids\n",
    "    cnt = cnt+1\n",
    "    tokens_tensor = torch.tensor([indexed_tokens])\n",
    "    segments_tensors = torch.tensor([segments_ids])\n",
    "    outputs = model(tokens_tensor, segments_tensors)\n",
    "    #outputs_arr += outputs\n",
    "\n",
    "# Display the words with their indeces.\n",
    "for tup in zip(tokenized_text_arr[:30], indexed_tokens_arr[:30],  segments_ids_arr[:30]):\n",
    "    print('{:<12} {:>6,}{:>6,}'.format(tup[0], tup[1],  tup[2]))\n",
    "    \n"
   ]
  },
  {
   "cell_type": "code",
   "execution_count": 49,
   "id": "092cc1f5-6c43-414d-ac4f-3593aab91a00",
   "metadata": {},
   "outputs": [],
   "source": [
    "# hidden states for last sentence in the corpus for \n",
    "hidden_states = outputs[2]"
   ]
  },
  {
   "cell_type": "code",
   "execution_count": 50,
   "id": "ba80c4b1-3659-4ca9-a63c-abede6055097",
   "metadata": {},
   "outputs": [
    {
     "name": "stdout",
     "output_type": "stream",
     "text": [
      "Number of layers: 13   (initial embeddings + 12 BERT layers)\n",
      "Number of batches: 1\n",
      "Number of tokens: 26\n",
      "Number of hidden units: 768\n"
     ]
    }
   ],
   "source": [
    "print (\"Number of layers:\", len(hidden_states), \"  (initial embeddings + 12 BERT layers)\")\n",
    "layer_i = 0\n",
    "\n",
    "print (\"Number of batches:\", len(hidden_states[layer_i]))\n",
    "batch_i = 0\n",
    "\n",
    "print (\"Number of tokens:\", len(hidden_states[layer_i][batch_i]))\n",
    "token_i = 0\n",
    "\n",
    "print (\"Number of hidden units:\", len(hidden_states[layer_i][batch_i][token_i]))"
   ]
  },
  {
   "cell_type": "code",
   "execution_count": 51,
   "id": "6f079c98-18c2-471f-a954-847451b7af37",
   "metadata": {},
   "outputs": [
    {
     "data": {
      "text/plain": [
       "torch.Size([13, 1, 26, 768])"
      ]
     },
     "execution_count": 51,
     "metadata": {},
     "output_type": "execute_result"
    }
   ],
   "source": [
    "# Concatenate the tensors for all layers. We use `stack` here to\n",
    "# create a new dimension in the tensor.\n",
    "token_embeddings = torch.stack(hidden_states, dim=0)\n",
    "\n",
    "token_embeddings.size()"
   ]
  },
  {
   "cell_type": "code",
   "execution_count": 52,
   "id": "8d7c028b-6cdb-478c-bfa1-1cd5e05a1ccc",
   "metadata": {},
   "outputs": [
    {
     "data": {
      "text/plain": [
       "torch.Size([13, 26, 768])"
      ]
     },
     "execution_count": 52,
     "metadata": {},
     "output_type": "execute_result"
    }
   ],
   "source": [
    "token_embeddings = torch.squeeze(token_embeddings, dim=1)\n",
    "\n",
    "token_embeddings.size()"
   ]
  },
  {
   "cell_type": "code",
   "execution_count": 53,
   "id": "e0e749cc-eea1-4a5e-93e6-25b56b3e7284",
   "metadata": {},
   "outputs": [
    {
     "data": {
      "text/plain": [
       "torch.Size([26, 13, 768])"
      ]
     },
     "execution_count": 53,
     "metadata": {},
     "output_type": "execute_result"
    }
   ],
   "source": [
    "token_embeddings = token_embeddings.permute(1,0,2)\n",
    "\n",
    "token_embeddings.size()"
   ]
  },
  {
   "cell_type": "code",
   "execution_count": 54,
   "id": "13091062-e3e0-417e-9e9e-f07a9bdaf427",
   "metadata": {},
   "outputs": [
    {
     "name": "stdout",
     "output_type": "stream",
     "text": [
      "Shape is: 26 x 3072\n"
     ]
    }
   ],
   "source": [
    "# Stores the token vectors, with shape [26 x 3072]\n",
    "token_vecs_cat = []\n",
    "\n",
    "# `token_embeddings` is a [26 x 12 x 768] tensor.\n",
    "\n",
    "# For each token in the sentence...\n",
    "for token in token_embeddings:\n",
    "    \n",
    "    # `token` is a [12 x 768] tensor\n",
    "\n",
    "    # Concatenate the vectors (that is, append them together) from the last \n",
    "    # four layers.\n",
    "    # Each layer vector is 768 values, so `cat_vec` is length 3,072.\n",
    "    cat_vec = torch.cat((token[-1], token[-2], token[-3], token[-4]), dim=0)\n",
    "    \n",
    "    # Use `cat_vec` to represent `token`.\n",
    "    token_vecs_cat.append(cat_vec)\n",
    "\n",
    "print ('Shape is: %d x %d' % (len(token_vecs_cat), len(token_vecs_cat[0])))"
   ]
  },
  {
   "cell_type": "code",
   "execution_count": 55,
   "id": "8fbeffeb-82d2-4372-9d48-9cfa9011dcdd",
   "metadata": {},
   "outputs": [
    {
     "name": "stdout",
     "output_type": "stream",
     "text": [
      "Shape is: 26 x 768\n"
     ]
    }
   ],
   "source": [
    "# Stores the token vectors, with shape [22 x 768]\n",
    "token_vecs_sum = []\n",
    "\n",
    "# `token_embeddings` is a [22 x 12 x 768] tensor.\n",
    "\n",
    "# For each token in the sentence...\n",
    "for token in token_embeddings:\n",
    "\n",
    "    # `token` is a [12 x 768] tensor\n",
    "\n",
    "    # Sum the vectors from the last four layers.\n",
    "    sum_vec = torch.sum(token[-4:], dim=0)\n",
    "    \n",
    "    # Use `sum_vec` to represent `token`.\n",
    "    token_vecs_sum.append(sum_vec)\n",
    "\n",
    "print ('Shape is: %d x %d' % (len(token_vecs_sum), len(token_vecs_sum[0])))"
   ]
  },
  {
   "cell_type": "code",
   "execution_count": 56,
   "id": "39f158f3-c553-4041-9582-3231e402bf27",
   "metadata": {},
   "outputs": [
    {
     "name": "stdout",
     "output_type": "stream",
     "text": [
      "1407 eye\n",
      "3195 eye\n",
      "4497 eye\n",
      "12087 eye\n",
      "12112 eye\n",
      "13749 eye\n",
      "14869 eye\n",
      "24081 eye\n",
      "30998 eye\n",
      "38784 eye\n",
      "41468 eye\n",
      "41563 eye\n",
      "44689 eye\n",
      "50741 eye\n",
      "57814 eye\n",
      "57972 eye\n",
      "58643 eye\n",
      "61807 eye\n",
      "70901 eye\n",
      "70955 eye\n",
      "77547 eye\n",
      "79597 eye\n",
      "83369 eye\n",
      "84222 eye\n",
      "90179 eye\n",
      "103719 eye\n",
      "104221 eye\n",
      "111328 eye\n",
      "111862 eye\n",
      "115773 eye\n",
      "118163 eye\n",
      "128314 eye\n",
      "128686 eye\n",
      "129542 eye\n",
      "134013 eye\n",
      "134014 eye\n",
      "134277 eye\n",
      "135705 eye\n",
      "136132 eye\n",
      "137324 eye\n",
      "138186 eye\n",
      "144731 eye\n",
      "144736 eye\n",
      "145384 eye\n",
      "147873 eye\n",
      "154409 eye\n"
     ]
    }
   ],
   "source": [
    "for i, token_str in enumerate(tokenized_text_arr):\n",
    "    if(token_str == 'eye'):\n",
    "        print (i, token_str)"
   ]
  },
  {
   "cell_type": "code",
   "execution_count": 57,
   "id": "c475a437-e057-49b1-b853-bfc6c0f11c65",
   "metadata": {},
   "outputs": [
    {
     "name": "stdout",
     "output_type": "stream",
     "text": [
      "Couldn't find program: 'echo'\n"
     ]
    }
   ],
   "source": [
    "%%script echo skipping\n",
    "print('First 5 vector values for each instance of \"eye\".')\n",
    "print('')\n",
    "   \n",
    "print(\"eye contact   \", str(token_vecs_sum[1407][:5]))\n",
    "print(\"eyewear  \", str(token_vecs_sum[3195][:5]))\n",
    "print(\"eye watering   \", str(token_vecs_sum[4497][:5]))\n",
    "print(\"eye free   \", str(token_vecs_sum[12087][:5]))\n",
    "print(\"eyebrow   \", str(token_vecs_sum[12248][:5]))"
   ]
  },
  {
   "cell_type": "markdown",
   "id": "0c4490e6-12a8-42ff-8986-2e13ada93ae7",
   "metadata": {},
   "source": [
    "## Let's see Sentence-Bert Embedding!"
   ]
  },
  {
   "cell_type": "code",
   "execution_count": 58,
   "id": "8792600b-0df9-4109-8271-025f886fe714",
   "metadata": {},
   "outputs": [
    {
     "name": "stdout",
     "output_type": "stream",
     "text": [
      "Requirement already satisfied: sentence-transformers in c:\\users\\kar_d\\anaconda3\\lib\\site-packages (2.2.2)\n",
      "Requirement already satisfied: torchvision in c:\\users\\kar_d\\anaconda3\\lib\\site-packages (from sentence-transformers) (0.10.0)\n",
      "Requirement already satisfied: huggingface-hub>=0.4.0 in c:\\users\\kar_d\\anaconda3\\lib\\site-packages (from sentence-transformers) (0.4.0)\n",
      "Requirement already satisfied: torch>=1.6.0 in c:\\users\\kar_d\\anaconda3\\lib\\site-packages (from sentence-transformers) (1.9.0)\n",
      "Requirement already satisfied: scikit-learn in c:\\users\\kar_d\\anaconda3\\lib\\site-packages (from sentence-transformers) (1.0.1)\n",
      "Requirement already satisfied: sentencepiece in c:\\users\\kar_d\\anaconda3\\lib\\site-packages (from sentence-transformers) (0.1.96)\n",
      "Requirement already satisfied: numpy in c:\\users\\kar_d\\anaconda3\\lib\\site-packages (from sentence-transformers) (1.18.5)\n",
      "Requirement already satisfied: scipy in c:\\users\\kar_d\\anaconda3\\lib\\site-packages (from sentence-transformers) (1.7.1)\n",
      "Requirement already satisfied: tqdm in c:\\users\\kar_d\\anaconda3\\lib\\site-packages (from sentence-transformers) (4.62.3)\n",
      "Requirement already satisfied: transformers<5.0.0,>=4.6.0 in c:\\users\\kar_d\\anaconda3\\lib\\site-packages (from sentence-transformers) (4.17.0)\n",
      "Requirement already satisfied: nltk in c:\\users\\kar_d\\anaconda3\\lib\\site-packages (from sentence-transformers) (3.6.5)\n",
      "Requirement already satisfied: filelock in c:\\users\\kar_d\\anaconda3\\lib\\site-packages (from huggingface-hub>=0.4.0->sentence-transformers) (3.3.1)\n",
      "Requirement already satisfied: requests in c:\\users\\kar_d\\anaconda3\\lib\\site-packages (from huggingface-hub>=0.4.0->sentence-transformers) (2.26.0)\n",
      "Requirement already satisfied: typing-extensions>=3.7.4.3 in c:\\users\\kar_d\\anaconda3\\lib\\site-packages (from huggingface-hub>=0.4.0->sentence-transformers) (3.10.0.2)\n",
      "Requirement already satisfied: pyyaml in c:\\users\\kar_d\\anaconda3\\lib\\site-packages (from huggingface-hub>=0.4.0->sentence-transformers) (6.0)\n",
      "Requirement already satisfied: packaging>=20.9 in c:\\users\\kar_d\\anaconda3\\lib\\site-packages (from huggingface-hub>=0.4.0->sentence-transformers) (21.0)\n",
      "Requirement already satisfied: pyparsing>=2.0.2 in c:\\users\\kar_d\\anaconda3\\lib\\site-packages (from packaging>=20.9->huggingface-hub>=0.4.0->sentence-transformers) (3.0.4)\n",
      "Requirement already satisfied: sacremoses in c:\\users\\kar_d\\anaconda3\\lib\\site-packages (from transformers<5.0.0,>=4.6.0->sentence-transformers) (0.0.47)\n",
      "Requirement already satisfied: tokenizers!=0.11.3,>=0.11.1 in c:\\users\\kar_d\\anaconda3\\lib\\site-packages (from transformers<5.0.0,>=4.6.0->sentence-transformers) (0.11.6)\n",
      "Requirement already satisfied: regex!=2019.12.17 in c:\\users\\kar_d\\anaconda3\\lib\\site-packages (from transformers<5.0.0,>=4.6.0->sentence-transformers) (2021.8.3)\n",
      "Requirement already satisfied: colorama in c:\\users\\kar_d\\anaconda3\\lib\\site-packages (from tqdm->sentence-transformers) (0.4.4)\n",
      "Requirement already satisfied: click in c:\\users\\kar_d\\anaconda3\\lib\\site-packages (from nltk->sentence-transformers) (8.0.3)\n",
      "Requirement already satisfied: joblib in c:\\users\\kar_d\\anaconda3\\lib\\site-packages (from nltk->sentence-transformers) (1.1.0)\n",
      "Requirement already satisfied: idna<4,>=2.5 in c:\\users\\kar_d\\anaconda3\\lib\\site-packages (from requests->huggingface-hub>=0.4.0->sentence-transformers) (3.2)\n",
      "Requirement already satisfied: certifi>=2017.4.17 in c:\\users\\kar_d\\anaconda3\\lib\\site-packages (from requests->huggingface-hub>=0.4.0->sentence-transformers) (2021.10.8)\n",
      "Requirement already satisfied: urllib3<1.27,>=1.21.1 in c:\\users\\kar_d\\anaconda3\\lib\\site-packages (from requests->huggingface-hub>=0.4.0->sentence-transformers) (1.26.7)\n",
      "Requirement already satisfied: charset-normalizer~=2.0.0 in c:\\users\\kar_d\\anaconda3\\lib\\site-packages (from requests->huggingface-hub>=0.4.0->sentence-transformers) (2.0.4)\n",
      "Requirement already satisfied: six in c:\\users\\kar_d\\anaconda3\\lib\\site-packages (from sacremoses->transformers<5.0.0,>=4.6.0->sentence-transformers) (1.16.0)\n",
      "Requirement already satisfied: threadpoolctl>=2.0.0 in c:\\users\\kar_d\\anaconda3\\lib\\site-packages (from scikit-learn->sentence-transformers) (2.2.0)\n",
      "Requirement already satisfied: pillow>=5.3.0 in c:\\users\\kar_d\\anaconda3\\lib\\site-packages (from torchvision->sentence-transformers) (8.4.0)\n"
     ]
    }
   ],
   "source": [
    "!pip install sentence-transformers"
   ]
  },
  {
   "cell_type": "code",
   "execution_count": 59,
   "id": "353aa7e3-d4c7-464b-8501-67245650dd51",
   "metadata": {},
   "outputs": [],
   "source": [
    "from sentence_transformers import SentenceTransformer\n",
    "# load a pre-trained model\n",
    "sbert_model = SentenceTransformer('bert-base-nli-mean-tokens')"
   ]
  },
  {
   "cell_type": "code",
   "execution_count": 60,
   "id": "ab0e6db4-28e8-484a-a422-ae9da5eb8621",
   "metadata": {},
   "outputs": [],
   "source": [
    "sentences = df_train['Event']\n",
    "sentence_embeddings = sbert_model.encode(sentences)"
   ]
  },
  {
   "cell_type": "code",
   "execution_count": 61,
   "id": "7b05500b-a0e6-4899-bbc6-96ca27675c3c",
   "metadata": {},
   "outputs": [
    {
     "data": {
      "text/plain": [
       "(5629, 768)"
      ]
     },
     "execution_count": 61,
     "metadata": {},
     "output_type": "execute_result"
    }
   ],
   "source": [
    "sentence_embeddings.shape"
   ]
  },
  {
   "cell_type": "code",
   "execution_count": 62,
   "id": "19ec6cf4-ddc3-4214-83c7-79b3549f48f3",
   "metadata": {},
   "outputs": [],
   "source": [
    "query = \"doctor misdiagnosing woman\"\n",
    "query1 = \"doctor better educated\"\n",
    "query_vec = sbert_model.encode([query])[0]\n",
    "query_vec1 = sbert_model.encode([query1])[0]"
   ]
  },
  {
   "cell_type": "code",
   "execution_count": 63,
   "id": "dcac3b4e-638e-4350-bef7-0b02d78a2588",
   "metadata": {},
   "outputs": [],
   "source": [
    "def cosine(u, v):\n",
    "    return np.dot(u, v) / (np.linalg.norm(u) * np.linalg.norm(v))"
   ]
  },
  {
   "cell_type": "code",
   "execution_count": 64,
   "id": "ab5a560a-4e5a-4f25-90c0-dc7bf4f6b058",
   "metadata": {},
   "outputs": [],
   "source": [
    "\"\"\"\n",
    "compute the cosine similarity using scipy. \n",
    "We will retrieve the similarity values between the sentences and our test query.\n",
    "\"\"\"\n",
    "# Creating an empty Dictionary\n",
    "dict = {}\n",
    "dict1 = {}\n",
    "\n",
    "for sent in sentences:\n",
    "    sim = cosine(query_vec, sbert_model.encode([sent])[0])\n",
    "    sim1 = cosine(query_vec1, sbert_model.encode([sent])[0])\n",
    "    dict.update({sent : sim})\n",
    "    dict1.update({sent : sim1})\n",
    "    #print(\"Sentence = \", sent, \"; similarity = \", sim)\n",
    "    \n",
    "#print(dict)"
   ]
  },
  {
   "cell_type": "code",
   "execution_count": 65,
   "id": "a01abaf4-260c-44f1-8481-8587bb51f82b",
   "metadata": {},
   "outputs": [],
   "source": [
    "max_key = max(dict, key=dict.get)\n",
    "\n",
    "max_keys = [key for key, value in dict.items() if value == max(dict.values())]"
   ]
  },
  {
   "cell_type": "code",
   "execution_count": 66,
   "id": "d03c5992-9cb8-4b63-ba17-e45a64aae8d7",
   "metadata": {},
   "outputs": [
    {
     "name": "stdout",
     "output_type": "stream",
     "text": [
      "study woman risk dying heart attack men researcher linked doctor misdiagnosing symptom gender difference identifying symptom photo creative common flickr\n"
     ]
    }
   ],
   "source": [
    "print(max_key)"
   ]
  },
  {
   "cell_type": "code",
   "execution_count": 67,
   "id": "ded4f730-50d7-42c0-b4ae-a1e3cd685131",
   "metadata": {},
   "outputs": [
    {
     "name": "stdout",
     "output_type": "stream",
     "text": [
      "0.7042099\n"
     ]
    }
   ],
   "source": [
    "max_value = max(dict.values())\n",
    "print(max_value)"
   ]
  },
  {
   "cell_type": "code",
   "execution_count": 68,
   "id": "207657fb-2429-402c-a6ec-de69ded0f921",
   "metadata": {},
   "outputs": [
    {
     "name": "stdout",
     "output_type": "stream",
     "text": [
      "housing market better expected economics nutshell rising price increasing builder activity point housing market better expected housing market better expected comment ap photo nam huh\n"
     ]
    }
   ],
   "source": [
    "max_key1 = max(dict1, key=dict1.get)\n",
    "print(max_key1)"
   ]
  },
  {
   "cell_type": "code",
   "execution_count": 69,
   "id": "4425a199-3f5f-41c7-85be-335393c0d5d2",
   "metadata": {},
   "outputs": [
    {
     "name": "stdout",
     "output_type": "stream",
     "text": [
      "0.552011\n"
     ]
    }
   ],
   "source": [
    "max_value1 = max(dict1.values())\n",
    "print(max_value1)"
   ]
  },
  {
   "cell_type": "markdown",
   "id": "46800d5b-d20c-461b-90f4-1a2fd50e900c",
   "metadata": {},
   "source": [
    "Let's see top-5 results we got for test data. "
   ]
  },
  {
   "cell_type": "code",
   "execution_count": 70,
   "id": "1f1f703d-3918-46e7-90d8-f3938ac919c9",
   "metadata": {},
   "outputs": [
    {
     "data": {
      "text/plain": [
       "[(0.7042099,\n",
       "  'study woman risk dying heart attack men researcher linked doctor misdiagnosing symptom gender difference identifying symptom photo creative common flickr'),\n",
       " (0.6993096,\n",
       "  'longview tx nurse died stabbing attack east texas hospital people sustained injury reported associated press ap suspect attack ambulatory surgical center good shepherd medical center'),\n",
       " (0.69073385,\n",
       "  'longview texas nurse died protect patient stabbing texas medical center tuesday hospital official suspect son patient injured people good shepherd ambulatory surgical center'),\n",
       " (0.67743355,\n",
       "  'longview texas nov upi nurse stabbed death tuesday people wounded attack hospital longview texas authority suspect attack good shepherd medical center kyron raushaun'),\n",
       " (0.67452097,\n",
       "  'male suspect custody identity released time emergency room accepting patient fox headlinesmore breaking family recount stabbing inside longview hospital nurse dy injured')]"
      ]
     },
     "execution_count": 70,
     "metadata": {},
     "output_type": "execute_result"
    }
   ],
   "source": [
    "value_key_pairs = ((value, key) for (key,value) in dict.items())\n",
    "sorted_value_key_pairs = sorted(value_key_pairs, reverse=True)\n",
    "sorted_value_key_pairs[0:5]"
   ]
  },
  {
   "cell_type": "code",
   "execution_count": 71,
   "id": "130bbe1c-fff8-49d4-8966-12890e77b437",
   "metadata": {},
   "outputs": [
    {
     "data": {
      "text/plain": [
       "[(0.552011,\n",
       "  'housing market better expected economics nutshell rising price increasing builder activity point housing market better expected housing market better expected comment ap photo nam huh'),\n",
       " (0.5435488,\n",
       "  'good news modern medicine advance faster pace government bad news regulator eventually catch cue food drug administration bidding emerging field personal'),\n",
       " (0.51328915,\n",
       "  'patient effervescent dispersible soluble medicine sodium greater risk cardiovascular event compared patient effervescent dispersible soluble version ame drug find study'),\n",
       " (0.51052207,\n",
       "  'independent scotland share pound rest uk alex salmond today despite government opposition common currency promised country simpler tax system cheaper corporation tax free'),\n",
       " (0.5104454,\n",
       "  'contrary popular belief black friday best day buy list day offer better deal specific kind thing category cheapest day')]"
      ]
     },
     "execution_count": 71,
     "metadata": {},
     "output_type": "execute_result"
    }
   ],
   "source": [
    "value_key_pairs = ((value, key) for (key,value) in dict1.items())\n",
    "sorted_value_key_pairs = sorted(value_key_pairs, reverse=True)\n",
    "sorted_value_key_pairs[0:5]"
   ]
  },
  {
   "cell_type": "markdown",
   "id": "7cea2ad3-541d-42b7-b4a2-9464ccff47c4",
   "metadata": {},
   "source": [
    "## Doc2Vec"
   ]
  },
  {
   "cell_type": "code",
   "execution_count": 168,
   "id": "f95c1b55-187c-4a81-a3bb-111d439ce379",
   "metadata": {},
   "outputs": [
    {
     "name": "stderr",
     "output_type": "stream",
     "text": [
      "[nltk_data] Downloading package punkt to\n",
      "[nltk_data]     C:\\Users\\kar_d\\AppData\\Roaming\\nltk_data...\n",
      "[nltk_data]   Package punkt is already up-to-date!\n"
     ]
    }
   ],
   "source": [
    "import nltk\n",
    "nltk.download('punkt')\n",
    "from nltk.tokenize import word_tokenize"
   ]
  },
  {
   "cell_type": "code",
   "execution_count": 169,
   "id": "39206623-c1a0-4437-a38f-91519399e1d2",
   "metadata": {},
   "outputs": [],
   "source": [
    "# Tokenization of each document\n",
    "tokenized_sent = []\n",
    "\n",
    "for s in list(df_train['text_clean']):\n",
    "    tokenized_sent.append(word_tokenize(s.lower()))\n",
    "#print(tokenized_sent)"
   ]
  },
  {
   "cell_type": "code",
   "execution_count": 170,
   "id": "281c644a-a985-4f82-bd93-1294e5fc36a1",
   "metadata": {},
   "outputs": [],
   "source": [
    "# import\n",
    "from gensim.models.doc2vec import Doc2Vec, TaggedDocument\n",
    "tagged_data = [TaggedDocument(d, [i]) for i, d in enumerate(tokenized_sent)]\n",
    "#tagged_data"
   ]
  },
  {
   "cell_type": "markdown",
   "id": "3380ffa5-6d78-471f-b494-196ae602405f",
   "metadata": {},
   "source": [
    "Let's train the model with the parameters:"
   ]
  },
  {
   "cell_type": "code",
   "execution_count": 171,
   "id": "8e617281-eb34-409a-8a74-7a7f8f1e1b00",
   "metadata": {},
   "outputs": [],
   "source": [
    "## Train doc2vec model\n",
    "modelDoc = Doc2Vec(tagged_data, vector_size = 20, window = 2, min_count = 1, epochs = 100)\n"
   ]
  },
  {
   "cell_type": "code",
   "execution_count": 172,
   "id": "da897ce3-dcc1-4610-af9d-de5de3dd6089",
   "metadata": {},
   "outputs": [
    {
     "data": {
      "text/plain": [
       "[(127, 0.8608024716377258),\n",
       " (16, 0.7996811270713806),\n",
       " (58, 0.7663881778717041),\n",
       " (41, 0.7448992729187012),\n",
       " (81, 0.744490385055542),\n",
       " (150, 0.7325569987297058),\n",
       " (132, 0.7277800440788269),\n",
       " (136, 0.7062528729438782),\n",
       " (29, 0.7013157606124878),\n",
       " (148, 0.6913548707962036)]"
      ]
     },
     "execution_count": 172,
     "metadata": {},
     "output_type": "execute_result"
    }
   ],
   "source": [
    "test_doc = word_tokenize(\"doctor misdiagnosing woman symptom\")\n",
    "test_doc_vector = modelDoc.infer_vector(test_doc)\n",
    "modelDoc.docvecs.most_similar(positive = [test_doc_vector])\n"
   ]
  },
  {
   "cell_type": "code",
   "execution_count": 173,
   "id": "492a9d9f-1cc9-4e46-9c3b-6bd0725ebe3b",
   "metadata": {},
   "outputs": [
    {
     "data": {
      "text/plain": [
       "[(127, 0.8608024716377258),\n",
       " (16, 0.7996811270713806),\n",
       " (58, 0.7663881778717041),\n",
       " (41, 0.7448992729187012),\n",
       " (81, 0.744490385055542)]"
      ]
     },
     "execution_count": 173,
     "metadata": {},
     "output_type": "execute_result"
    }
   ],
   "source": [
    "similar_documents = modelDoc.docvecs.most_similar([test_doc_vector], topn = 5)\n",
    "similar_documents"
   ]
  },
  {
   "cell_type": "code",
   "execution_count": 174,
   "id": "775b95c0-6036-4c26-b3be-3aad74de8a68",
   "metadata": {},
   "outputs": [
    {
     "data": {
      "text/plain": [
       "TaggedDocument(words=['difference', 'heart', 'attack', 'pain', 'men', 'woman', 'debunking', 'long', 'held', 'notion', 'ruled', 'heart', 'attack', 'symptom', 'woman', 'men', 'finding', 'study', 'exactly', 'case', 'finding', 'critical', 'care', 'type', 'pain', 'help', 'ing', 'mi', 'woman', 'published', 'nov', 'shalmali', 'pal', 'contributing', 'editor', 'medpage', 'today', 'reviewed', 'zalman', 'agus', 'md', 'emeritus', 'professor', 'perelman', 'school', 'medicine', 'university', 'pennsylvania', 'gay', 'prosser', 'blamed', 'vomiting', 'pain', 'middle', 'chest', 'previous', 'injury', 'consider', 'candidate', 'heart', 'problem', 'fact', 'prosser', 'year', 'middle', 'school', 'mom', 'time', 'dropped', 'hea', 'hday', 'news', 'small', 'difference', 'observed', 'sex', 'specific', 'diagnostic', 'performance', 'chest', 'pain', 'characteristic', 'cpcs', 'diagnosing', 'acute', 'myocardial', 'infarction', 'ami', 'study', 'published', 'online', 'nov', 'jama', 'internal', 'medicine', 'monday', 'nov', 'hea', 'hday', 'news', 'chest', 'pain', 'symptom', 'doctor', 'accurately', 'diagnose', 'woman', 'suffering', 'major', 'heart', 'attack', 'survey', 'woman', 'men', 'woman', 'tend', 'woman', 'men', 'exhibit', 'symptom', 'shortness', 'breath', 'vomiting', 'pain', 'neck', 'jaw', 'posted', 'ananth', 'baliga', 'nov', 'pm', 'comment', 'researcher', 'dailyrx', 'news', 'heart', 'disease', 'unrecognized', 'undertreated', 'young', 'woman', 'hispanic', 'woman', 'age', 'face', 'higher', 'mortality', 'risk', 'heart', 'attack', 'compared', 'death', 'rate', 'acute', 'heart', 'attack', 'chicago', 'chest', 'pain', 'characteristic', 'cpcs', 'specific', 'woman', 'early', 'diagnosis', 'acute', 'myocardial', 'infarction', 'ami', 'heart', 'attack', 'emergency', 'department', 'supported', 'finding', 'study', 'published', 'jama', 'internal', 'chest', 'pain', 'symptom', 'doctor', 'accurately', 'diagnose', 'woman', 'suffering', 'major', 'heart', 'attack', 'pin', 'woman', 'chest', 'pain', 'heart', 'attack', 'istock', 'cardiac', 'arrest', 'men', 'warning', 'sign', 'heart', 'disease', 'researcher', 'concluded', 'chest', 'pain', 'reliable', 'indicator', 'heart', 'attack', 'woman', 'photo', 'smu', 'order', 'determine', 'patient', 'suffered', 'heart', 'attack', 'doctor', 'rely', 'symptom', 'chest', 'pain', 'pressure', 'aching', 'evaluating', 'characteristic', 'chest', 'pain', 'early', 'diagnosis', 'mi', 'woman', 'researcher', 'analyzing', 'characteristic', 'chest', 'pain', 'early', 'identification', 'severe', 'myocardial', 'infarction', 'mi', 'woman', 'lot', 'emphasis', 'difference', 'presentation', 'cardiac', 'disease', 'woman', 'men', 'vast', 'majority', 'people', 'cent', 'patient', 'heart', 'attack', 'chest', 'pain', 'discomfort', 'men', 'woman', 'considered', 'equal', 'term', 'type', 'warning', 'sign', 'incurred', 'heart', 'attack', 'news', 'woman', 'symptom', 'location', 'type', 'pain', 'medical', 'staff', 'slow', 'diagnose', 'study', 'woman', 'risk', 'dying', 'heart', 'attack', 'men', 'researcher', 'linked', 'doctor', 'misdiagnosing', 'symptom', 'gender', 'difference', 'identifying', 'symptom', 'photo', 'creative', 'common', 'flickr', 'tel', 'ale', 'trait', 'acute', 'myocardial', 'infarction', 'associated', 'chest', 'pain', 'differ', 'woman', 'men', 'diagnostically', 'telling', 'determine', 'woman', 'chest', 'pain', 'heart', 'attack', 'report', 'published', 'online', 'nov', 'chest', 'pain', 'symptom', 'heart', 'attack', 'woman', 'symptom', 'aware', 'posted', 'monday', 'november', 'pm', 'updated', 'pm', 'nov', 'woman', 'experiencing', 'heart', 'patient', 'heart', 'attack', 'chest', 'pain', 'three', 'time', 'die', 'study', 'chest', 'pain', 'best', 'symptom', 'heart', 'attack', 'occur', 'patient', 'fainting', 'nausea', 'vomiting', 'woman', 'men', 'die', 'heart', 'attack', 'researcher', 'suggested', 'reason', 'doctor', 'misdiagnosing', 'woman', 'symptom', 'differ', 'experienced', 'men', 'study', 'published', 'monday', 'berlin', 'germany', 'chest', 'pain', 'factor', 'diagnosing', 'heart', 'attack', 'woman', 'study', 'jama', 'er', 'doctor', 'asked', 'female', 'patient', 'chest', 'pain', 'including', 'location', 'onset', 'helpful', 'making'], tags=[127])"
      ]
     },
     "execution_count": 174,
     "metadata": {},
     "output_type": "execute_result"
    }
   ],
   "source": [
    "tagged_data[127]"
   ]
  },
  {
   "cell_type": "code",
   "execution_count": 175,
   "id": "505f00b7-b91b-4ece-9206-aad77351f6b3",
   "metadata": {},
   "outputs": [
    {
     "data": {
      "text/plain": [
       "TaggedDocument(words=['breast', 'cancer', 'screening', 'extended', 'younger', 'woman', 'study', 'breast', 'cancer', 'screening', 'extended', 'younger', 'woman', 'decline', 'witnessed', 'breast', 'cancer', 'mortality', 'rate', 'number', 'organization', 'american', 'woman', 'member', 'family', 'brca', 'mutation', 'test', 'negative', 'family', 'specific', 'brca', 'mutation', 'greater', 'risk', 'developing', 'breast', 'cancer', 'compared', 'woman', 'general', 'population', 'study', 'published', 'wednesday', 'nov', 'hea', 'hday', 'news', 'woman', 'family', 'history', 'breast', 'cancer', 'tested', 'brca', 'brca', 'genetic', 'mutation', 'linked', 'disease', 'study', 'suggests', 'woman', 'test', 'negative', 'kfar', 'saba', 'israel', 'tested', 'positive', 'defective', 'gene', 'breast', 'cancer', 'tamar', 'modiano', 'harbored', 'mother', 'fear', 'passed', 'daughter', 'modiano', 'breast', 'removed', 'prevent', 'qi', 'male', 'friend', 'mine', 'breast', 'cancer', 'thought', 'joking', 'joke', 'mastectomy', 'follow', 'chemo', 'common', 'guy', 'risk', 'phillip', 'afor', 'men', 'odds', 'talus', 'shalev', 'ct', 'scan', 'hospital', 'tel', 'aviv', 'rina', 'castelnuovo', 'york', 'time', 'talus', 'shalev', 'ct', 'scan', 'hospital', 'tel', 'aviv', 'month', 'shalev', 'mother', 'developed', 'breast', 'cancer', 'tested', 'positive', 'testing', 'negative', 'brca', 'gene', 'mutation', 'woman', 'high', 'risk', 'developing', 'breast', 'cancer', 'study', 'published', 'cancer', 'epidemiology', 'biomarkers', 'prevention', 'researcher', 'university', 'dailyrx', 'news', 'woman', 'close', 'relative', 'carry', 'brca', 'gene', 'mutation', 'carrier', 'woman', 'learned', 'ered', 'brca', 'gene', 'offer', 'relief', 'study', 'suggested', 'analysis', 'published', 'online', 'cancer', 'confirms', 'greater', 'annual', 'mammography', 'woman', 'age', 'recommended', 'american', 'cancer', 'society', 'american', 'congress', 'obstetrician', 'gynecologist', 'acog', 'american', 'mammogram', 'order', 'diagnose', 'breast', 'cancer', 'revealed', 'negative', 'side', 'breast', 'cancer', 'screening', 'claim', 'life', 'saved', 'mammogram', 'three', 'woman', 'diagnosed'], tags=[16])"
      ]
     },
     "execution_count": 175,
     "metadata": {},
     "output_type": "execute_result"
    }
   ],
   "source": [
    "tagged_data[16]"
   ]
  },
  {
   "cell_type": "code",
   "execution_count": 176,
   "id": "041b81cb-7fdf-4444-b3b5-f9a10cde38a1",
   "metadata": {},
   "outputs": [
    {
     "data": {
      "text/plain": [
       "TaggedDocument(words=['doctor', 'minimally', 'invasive', 'surgical', 'procedure', 'unexpected', 'side', 'weight', 'loss', 'flickr', 'creative', 'common', 'tobyotter', 'current', 'weight', 'loss', 'surgery', 'technique', 'drastic', 'organ', 'remodeling', 'affair', 'doctor', 'reduces', 'patient', 'stomach', 'left', 'gastric', 'artery', 'embolization', 'improves', 'weight', 'loss', 'patient', 'upper', 'bleeding', 'treated', 'transarterial', 'embolization', 'study', 'presented', 'advance', 'annual', 'meeting', 'radiological', 'society', 'north', 'america', 'study', 'report', 'individual', 'underwent', 'embolization', 'left', 'gastric', 'artery', 'bleeding', 'experienced', 'percent', 'decrease', 'body', 'weight', 'three', 'month', 'procedure', 'study', 'offer', 'potential'], tags=[58])"
      ]
     },
     "execution_count": 176,
     "metadata": {},
     "output_type": "execute_result"
    }
   ],
   "source": [
    "tagged_data[58]"
   ]
  },
  {
   "cell_type": "code",
   "execution_count": 177,
   "id": "5ad85bef-a367-48e2-a00b-5ec87b08e7cb",
   "metadata": {},
   "outputs": [
    {
     "data": {
      "text/plain": [
       "TaggedDocument(words=['analysis', 'indicates', 'prevalence', 'undiagnosed', 'human', 'virus', 'hiv', 'infection', 'state', 'prison', 'entrant', 'north', 'carolina', 'low', 'percent', 'study', 'appearing', 'november', 'issue', 'jama', 'substantial', 'hiv', 'aid', 'hiv', 'screening', 'inmate', 'low', 'yield', 'published', 'nov', 'michael', 'smith', 'north', 'american', 'correspondent', 'medpage', 'today', 'save', 'posttest', 'screening', 'hiv', 'people', 'entering', 'prison', 'system', 'pick'], tags=[41])"
      ]
     },
     "execution_count": 177,
     "metadata": {},
     "output_type": "execute_result"
    }
   ],
   "source": [
    "tagged_data[41]"
   ]
  },
  {
   "cell_type": "markdown",
   "id": "7494f938-d3db-425d-8762-70d9d5d7ad31",
   "metadata": {},
   "source": [
    "## Let's apply Doc2Vec for ungrouped data"
   ]
  },
  {
   "cell_type": "code",
   "execution_count": 179,
   "id": "40591e6e-ed03-4159-935e-7ac1d463756e",
   "metadata": {},
   "outputs": [
    {
     "data": {
      "text/html": [
       "<div>\n",
       "<style scoped>\n",
       "    .dataframe tbody tr th:only-of-type {\n",
       "        vertical-align: middle;\n",
       "    }\n",
       "\n",
       "    .dataframe tbody tr th {\n",
       "        vertical-align: top;\n",
       "    }\n",
       "\n",
       "    .dataframe thead th {\n",
       "        text-align: right;\n",
       "    }\n",
       "</style>\n",
       "<table border=\"1\" class=\"dataframe\">\n",
       "  <thead>\n",
       "    <tr style=\"text-align: right;\">\n",
       "      <th></th>\n",
       "      <th>Event</th>\n",
       "      <th>EventId</th>\n",
       "    </tr>\n",
       "  </thead>\n",
       "  <tbody>\n",
       "    <tr>\n",
       "      <th>0</th>\n",
       "      <td>net lived lofty expectation month basketball l...</td>\n",
       "      <td>16</td>\n",
       "    </tr>\n",
       "    <tr>\n",
       "      <th>1</th>\n",
       "      <td>duck time allowing goal game season instance s...</td>\n",
       "      <td>23</td>\n",
       "    </tr>\n",
       "    <tr>\n",
       "      <th>2</th>\n",
       "      <td>invezz wednesday november hewlett packard nyse...</td>\n",
       "      <td>24</td>\n",
       "    </tr>\n",
       "    <tr>\n",
       "      <th>3</th>\n",
       "      <td>nov photo provided george loegering large spin...</td>\n",
       "      <td>143</td>\n",
       "    </tr>\n",
       "    <tr>\n",
       "      <th>4</th>\n",
       "      <td>actress jennifer love hewitt birth baby girl n...</td>\n",
       "      <td>11</td>\n",
       "    </tr>\n",
       "    <tr>\n",
       "      <th>...</th>\n",
       "      <td>...</td>\n",
       "      <td>...</td>\n",
       "    </tr>\n",
       "    <tr>\n",
       "      <th>5624</th>\n",
       "      <td>bygone damsel distress talking cinderella snow...</td>\n",
       "      <td>19</td>\n",
       "    </tr>\n",
       "    <tr>\n",
       "      <th>5625</th>\n",
       "      <td>abu dhabi national day firework programme expa...</td>\n",
       "      <td>20</td>\n",
       "    </tr>\n",
       "    <tr>\n",
       "      <th>5626</th>\n",
       "      <td>men woman experience post sex regret wildly re...</td>\n",
       "      <td>71</td>\n",
       "    </tr>\n",
       "    <tr>\n",
       "      <th>5627</th>\n",
       "      <td>dim outlook traditional desktop pc day slight ...</td>\n",
       "      <td>24</td>\n",
       "    </tr>\n",
       "    <tr>\n",
       "      <th>5628</th>\n",
       "      <td>investor braced bad news veteran computer firm...</td>\n",
       "      <td>24</td>\n",
       "    </tr>\n",
       "  </tbody>\n",
       "</table>\n",
       "<p>5629 rows × 2 columns</p>\n",
       "</div>"
      ],
      "text/plain": [
       "                                                  Event EventId\n",
       "0     net lived lofty expectation month basketball l...      16\n",
       "1     duck time allowing goal game season instance s...      23\n",
       "2     invezz wednesday november hewlett packard nyse...      24\n",
       "3     nov photo provided george loegering large spin...     143\n",
       "4     actress jennifer love hewitt birth baby girl n...      11\n",
       "...                                                 ...     ...\n",
       "5624  bygone damsel distress talking cinderella snow...      19\n",
       "5625  abu dhabi national day firework programme expa...      20\n",
       "5626  men woman experience post sex regret wildly re...      71\n",
       "5627  dim outlook traditional desktop pc day slight ...      24\n",
       "5628  investor braced bad news veteran computer firm...      24\n",
       "\n",
       "[5629 rows x 2 columns]"
      ]
     },
     "execution_count": 179,
     "metadata": {},
     "output_type": "execute_result"
    }
   ],
   "source": [
    "\n",
    "f = open('train.json', \"r\")\n",
    "\n",
    "data = json.loads(f.read())\n",
    "#type(data)\n",
    "\n",
    "data = pd.DataFrame.from_dict(data.items())\n",
    "data.columns = ['Event', 'EventId']\n",
    "data"
   ]
  },
  {
   "cell_type": "code",
   "execution_count": 180,
   "id": "8b85af53-244b-4de5-8125-919e3d901d33",
   "metadata": {},
   "outputs": [
    {
     "data": {
      "text/html": [
       "<div>\n",
       "<style scoped>\n",
       "    .dataframe tbody tr th:only-of-type {\n",
       "        vertical-align: middle;\n",
       "    }\n",
       "\n",
       "    .dataframe tbody tr th {\n",
       "        vertical-align: top;\n",
       "    }\n",
       "\n",
       "    .dataframe thead th {\n",
       "        text-align: right;\n",
       "    }\n",
       "</style>\n",
       "<table border=\"1\" class=\"dataframe\">\n",
       "  <thead>\n",
       "    <tr style=\"text-align: right;\">\n",
       "      <th></th>\n",
       "      <th>Event</th>\n",
       "      <th>EventId</th>\n",
       "      <th>text</th>\n",
       "    </tr>\n",
       "  </thead>\n",
       "  <tbody>\n",
       "    <tr>\n",
       "      <th>0</th>\n",
       "      <td>net lived lofty expectation month basketball l...</td>\n",
       "      <td>16</td>\n",
       "      <td>net lived lofty expectation month basketball l...</td>\n",
       "    </tr>\n",
       "    <tr>\n",
       "      <th>1</th>\n",
       "      <td>duck time allowing goal game season instance s...</td>\n",
       "      <td>23</td>\n",
       "      <td>duck time allowing goal game season instance s...</td>\n",
       "    </tr>\n",
       "    <tr>\n",
       "      <th>2</th>\n",
       "      <td>invezz wednesday november hewlett packard nyse...</td>\n",
       "      <td>24</td>\n",
       "      <td>invezz wednesday november hewlett packard nyse...</td>\n",
       "    </tr>\n",
       "    <tr>\n",
       "      <th>3</th>\n",
       "      <td>nov photo provided george loegering large spin...</td>\n",
       "      <td>143</td>\n",
       "      <td>nov photo provided george loegering large spin...</td>\n",
       "    </tr>\n",
       "    <tr>\n",
       "      <th>4</th>\n",
       "      <td>actress jennifer love hewitt birth baby girl n...</td>\n",
       "      <td>11</td>\n",
       "      <td>actress jennifer love hewitt birth baby girl n...</td>\n",
       "    </tr>\n",
       "  </tbody>\n",
       "</table>\n",
       "</div>"
      ],
      "text/plain": [
       "                                               Event EventId  \\\n",
       "0  net lived lofty expectation month basketball l...      16   \n",
       "1  duck time allowing goal game season instance s...      23   \n",
       "2  invezz wednesday november hewlett packard nyse...      24   \n",
       "3  nov photo provided george loegering large spin...     143   \n",
       "4  actress jennifer love hewitt birth baby girl n...      11   \n",
       "\n",
       "                                                text  \n",
       "0  net lived lofty expectation month basketball l...  \n",
       "1  duck time allowing goal game season instance s...  \n",
       "2  invezz wednesday november hewlett packard nyse...  \n",
       "3  nov photo provided george loegering large spin...  \n",
       "4  actress jennifer love hewitt birth baby girl n...  "
      ]
     },
     "execution_count": 180,
     "metadata": {},
     "output_type": "execute_result"
    }
   ],
   "source": [
    "data[\"text\"] = data[\"Event\"].apply(lambda x: \n",
    "          utils_preprocess_text(x, flg_stemm=False, flg_lemm=True, \n",
    "          lst_stopwords=df_stopwords))\n",
    "data.head()"
   ]
  },
  {
   "cell_type": "markdown",
   "id": "d2508144-81ea-4f1d-b58e-4788c3325fe5",
   "metadata": {},
   "source": [
    "Now, we will apply doc2vec model for ungrouped data"
   ]
  },
  {
   "cell_type": "code",
   "execution_count": 181,
   "id": "43091b4e-5a3c-4822-a7de-dcf4f26b7fc0",
   "metadata": {},
   "outputs": [
    {
     "data": {
      "text/plain": [
       "[(3491, 0.8439211249351501),\n",
       " (2831, 0.8423823714256287),\n",
       " (3034, 0.8367025256156921),\n",
       " (1682, 0.8226330876350403),\n",
       " (1750, 0.8201563358306885),\n",
       " (2535, 0.8194383978843689),\n",
       " (1917, 0.8045675158500671),\n",
       " (1508, 0.8037928342819214),\n",
       " (2587, 0.8014112710952759),\n",
       " (1782, 0.7959815263748169),\n",
       " (391, 0.7949185371398926),\n",
       " (1001, 0.7946001291275024),\n",
       " (1485, 0.7942500710487366),\n",
       " (3840, 0.789264976978302),\n",
       " (4386, 0.7884699106216431),\n",
       " (29, 0.7883549928665161),\n",
       " (311, 0.7874529957771301),\n",
       " (4439, 0.7861257195472717),\n",
       " (5389, 0.7799458503723145),\n",
       " (1064, 0.7791422009468079)]"
      ]
     },
     "execution_count": 181,
     "metadata": {},
     "output_type": "execute_result"
    }
   ],
   "source": [
    "# Tokenization of each document\n",
    "tokenized_sent = []\n",
    "\n",
    "for s in list(data['text']):\n",
    "    tokenized_sent.append(word_tokenize(s.lower()))\n",
    "    \n",
    "tagged_data = [TaggedDocument(d, [i]) for i, d in enumerate(tokenized_sent)]\n",
    "\n",
    "## Train doc2vec model\n",
    "modelDoc = Doc2Vec(tagged_data, vector_size = 20, window = 2, min_count = 1, epochs = 100)\n",
    "\n",
    "test_doc = word_tokenize(\"doctor misdiagnosing woman symptom\")\n",
    "test_doc_vector = modelDoc.infer_vector(test_doc)\n",
    "modelDoc.docvecs.most_similar(positive = [test_doc_vector])\n",
    "\n",
    "similar_documents = modelDoc.docvecs.most_similar([test_doc_vector], topn = 20)\n",
    "similar_documents"
   ]
  },
  {
   "cell_type": "markdown",
   "id": "46256eb2-7f3e-4c79-87ed-3911dad8abfc",
   "metadata": {},
   "source": [
    "## Let's verify top 20 results for DOC2VEC "
   ]
  },
  {
   "cell_type": "code",
   "execution_count": 241,
   "id": "66ef58e9-b79b-45a4-aebb-4243eedac9e6",
   "metadata": {},
   "outputs": [
    {
     "name": "stdout",
     "output_type": "stream",
     "text": [
      "TaggedDocument<['longview', 'texas', 'nurse', 'died', 'protect', 'patient', 'stabbing', 'texas', 'medical', 'center', 'tuesday', 'hospital', 'official', 'suspect', 'son', 'patient', 'injured', 'people', 'good', 'shepherd', 'ambulatory', 'surgical', 'center'], [3491]>\n",
      "TaggedDocument<['providence', 'brown', 'university', 'researcher', 'brown', 'university', 'banner', 'alzheimer', 'institute', 'infant', 'carry', 'gene', 'associated', 'increased', 'risk', 'alzheimer', 'disease', 'tend', 'difference', 'brain', 'development'], [2831]>\n",
      "TaggedDocument<['kim', 'kardashian', 'reacts', 'seth', 'rogan', 'james', 'franco', 'spoof', 'kanye', 'west', 'video', 'bound'], [3034]>\n",
      "TaggedDocument<['monday', 'nov', 'hea', 'hday', 'news', 'chest', 'pain', 'symptom', 'doctor', 'accurately', 'diagnose', 'woman', 'suffering', 'major', 'heart', 'attack', 'survey', 'woman', 'men', 'woman', 'tend'], [1682]>\n",
      "TaggedDocument<['copyright', 'scripps', 'medium', 'reserved', 'material', 'published', 'broadcast', 'rewritten', 'redistributed', 'photo', 'jpg', 'copyright', 'scripps', 'medium', 'reserved', 'material', 'published'], [1750]>\n",
      "TaggedDocument<['researcher', 'concluded', 'chest', 'pain', 'reliable', 'indicator', 'heart', 'attack', 'woman', 'photo', 'smu', 'order', 'determine', 'patient', 'suffered', 'heart', 'attack', 'doctor', 'rely', 'symptom', 'chest', 'pain', 'pressure', 'aching'], [2535]>\n",
      "TaggedDocument<['robinson', 'cano', 'york', 'representative', 'free', 'agent', 'second', 'baseman', 'robinson', 'cano', 'met', 'tuesday', 'york', 'yankee', 'gap', 'side', 'remains', 'wide', 'person', 'familiar', 'negotiation', 'person', 'spoke'], [1917]>\n",
      "TaggedDocument<['european', 'manufacturer', 'emergency', 'contraceptive', 'pill', 'identical', 'plan', 'morning', 'pill', 'warn', 'woman', 'drug', 'completely', 'ineffective', 'woman', 'weigh', 'pound', 'lose', 'effectiveness'], [1508]>\n",
      "TaggedDocument<['cbs', 'news', 'correspondent', 'lara', 'logan', 'minute', 'leave', 'absence', 'source', 'minute', 'story', 'benghazi', 'attack', 'discredited', 'frederick', 'brown', 'getty', 'image', 'roger', 'yu', 'usa', 'today', 'filed', 'news', 'news'], [2587]>\n",
      "TaggedDocument<['woman', 'men', 'exhibit', 'symptom', 'shortness', 'breath', 'vomiting', 'pain', 'neck', 'jaw', 'posted', 'ananth', 'baliga', 'nov', 'pm', 'comment', 'researcher'], [1782]>\n",
      "TaggedDocument<['cnn', 'emergency', 'contraceptive', 'manufactured', 'europe', 'label', 'warning', 'pill', 'effective', 'woman', 'weight', 'true', 'emergency', 'contraceptive', 'united', 'state'], [391]>\n",
      "TaggedDocument<['swine', 'flu', 'epidemic', 'killed', 'people', 'globe', 'death', 'toll', 'time', 'greater', 'initially', 'estimated', 'hea', 'organization', 'researcher', 'study', 'published', 'tuesday', 'journal', 'plo', 'medicine'], [1001]>\n",
      "TaggedDocument<['monday', 'morning', 'mother', 'jones', 'reported', 'european', 'manufacturer', 'emergency', 'contraceptive', 'pill', 'identical', 'plan', 'morning', 'pill', 'warn', 'woman', 'drug', 'completely', 'ineffective', 'woman', 'weighing'], [1485]>\n",
      "TaggedDocument<['jennifer', 'love', 'hewitt', 'birth', 'baby', 'girl', 'married', 'woman', 'rep', 'confirms', 'justjared', 'year', 'actress', 'husband', 'brian', 'hallisay', 'thrilled', 'birth', 'daughter', 'autumn', 'james', 'hallisay'], [3840]>\n",
      "TaggedDocument<['emergency', 'contraceptive', 'morning', 'pill', 'effective', 'woman', 'weight', 'european', 'manufacturer', 'pill', 'virtually', 'identical', 'plan', 'product', 'work', 'woman', 'weigh'], [4386]>\n",
      "TaggedDocument<['difference', 'heart', 'attack', 'pain', 'men', 'woman', 'debunking', 'long', 'held', 'notion', 'ruled', 'heart', 'attack', 'symptom', 'woman', 'men', 'finding', 'study', 'exactly', 'case', 'finding'], [29]>\n",
      "TaggedDocument<['rock', 'singer', 'ian', 'watkins', 'pleaded', 'gui', 'string', 'sex', 'offence', 'including', 'attempted', 'rape', 'baby', 'lostprophets', 'singer', 'ian', 'watkins', 'gui', 'sex', 'offence', 'including', 'attempted', 'rape', 'baby', 'police', 'hunt', 'wolf', 'fled', 'zoo'], [311]>\n",
      "TaggedDocument<['chest', 'pain', 'symptom', 'heart', 'attack', 'woman', 'symptom', 'aware', 'posted', 'monday', 'november', 'pm', 'updated', 'pm', 'nov', 'woman', 'experiencing', 'heart'], [4439]>\n",
      "TaggedDocument<['drs', 'andrew', 'goldstein', 'owen', 'witte', 'tanya', 'stoyanova', 'colleague', 'ucla', 'eli', 'edythe', 'broad', 'center', 'regenerative', 'medicine', 'stem', 'cell', 'prostate', 'cancer', 'develop', 'type', 'stem', 'cell', 'evolve'], [5389]>\n",
      "TaggedDocument<['rock', 'singer', 'ian', 'watkins', 'pleaded', 'gui', 'string', 'sex', 'offence', 'including', 'attempted', 'rape', 'baby', 'rock', 'singer', 'ian', 'watkins', 'pleaded', 'gui', 'string', 'sex', 'offence', 'including', 'attempted', 'rape', 'baby', 'lead', 'singer', 'mu'], [1064]>\n"
     ]
    }
   ],
   "source": [
    "\n",
    "\n",
    "for s in similar_documents:\n",
    "    i = s[0]\n",
    "    print(tagged_data[i])\n"
   ]
  },
  {
   "cell_type": "markdown",
   "id": "9892ce2d-b22e-419a-976a-dbaab1fc4b25",
   "metadata": {},
   "source": [
    "## Doc2Vec for test data "
   ]
  },
  {
   "cell_type": "code",
   "execution_count": 243,
   "id": "e175b483-3a44-42cd-b9b9-abc4044145d2",
   "metadata": {},
   "outputs": [
    {
     "data": {
      "text/plain": [
       "[(127, 0.868132472038269),\n",
       " (16, 0.8435537219047546),\n",
       " (121, 0.8381454944610596),\n",
       " (29, 0.81471848487854),\n",
       " (58, 0.7682538032531738),\n",
       " (123, 0.7675898671150208),\n",
       " (103, 0.7491398453712463),\n",
       " (39, 0.7443177103996277),\n",
       " (41, 0.7126840353012085),\n",
       " (27, 0.7004114985466003),\n",
       " (150, 0.6873464584350586),\n",
       " (148, 0.6856511235237122),\n",
       " (18, 0.6847544312477112),\n",
       " (124, 0.6811977028846741),\n",
       " (44, 0.6651628613471985),\n",
       " (55, 0.6619076132774353),\n",
       " (31, 0.6524898409843445),\n",
       " (20, 0.6431781053543091),\n",
       " (26, 0.6413824558258057),\n",
       " (73, 0.6388325095176697)]"
      ]
     },
     "execution_count": 243,
     "metadata": {},
     "output_type": "execute_result"
    }
   ],
   "source": [
    "tokenized_sent = []\n",
    "\n",
    "for s in list(df_test['text_clean']):\n",
    "    tokenized_sent.append(word_tokenize(s.lower()))\n",
    "    \n",
    "tagged_data = [TaggedDocument(d, [i]) for i, d in enumerate(tokenized_sent)]\n",
    "\n",
    "## Train doc2vec model\n",
    "modelDoc = Doc2Vec(tagged_data, vector_size = 20, window = 2, min_count = 1, epochs = 100)\n",
    "\n",
    "test_doc = word_tokenize(\"doctor misdiagnosing woman symptom\")\n",
    "test_doc_vector = modelDoc.infer_vector(test_doc)\n",
    "modelDoc.docvecs.most_similar(positive = [test_doc_vector])\n",
    "\n",
    "similar_documents = modelDoc.docvecs.most_similar([test_doc_vector], topn = 20)\n",
    "similar_documents\n",
    "    \n"
   ]
  },
  {
   "cell_type": "code",
   "execution_count": 275,
   "id": "d2a85e08-a2b7-4725-b69c-6e181fd21aef",
   "metadata": {},
   "outputs": [
    {
     "data": {
      "text/plain": [
       "[(127, 0.868132472038269),\n",
       " (16, 0.8435537219047546),\n",
       " (121, 0.8381454944610596),\n",
       " (29, 0.81471848487854),\n",
       " (58, 0.7682538032531738)]"
      ]
     },
     "execution_count": 275,
     "metadata": {},
     "output_type": "execute_result"
    }
   ],
   "source": [
    "similar_documents = modelDoc.docvecs.most_similar([test_doc_vector], topn = 5)\n",
    "similar_documents"
   ]
  },
  {
   "cell_type": "code",
   "execution_count": 276,
   "id": "591688fe-dc8e-40ab-8499-0a268c903ce3",
   "metadata": {},
   "outputs": [
    {
     "name": "stdout",
     "output_type": "stream",
     "text": [
      "TaggedDocument<['doctor', 'misdiagnosing', 'woman', 'chest', 'pain', 'heart', 'attack', 'symptom', 'men', 'experience', 'female', 'dying', 'reason', 'happening', 'study', 'jama', 'international', 'medicine', 'compared', 'men', 'woman', 'suffer', 'chest', 'pain', 'acute', 'syndrome', 'chest', 'pain', 'symptom', 'ac', 'situation', 'nadia', 'khan', 'team', 'doctor', 'better', 'educated', 'risk', 'fatal', 'heart', 'attack', 'woman', 'decade', 'recognize', 'warning', 'sign', 'chest', 'pain', 'differently', 'woman', 'men', 'crushing', 'chest', 'chicago', 'il', 'analysis', 'chest', 'pain', 'symptom', 'men', 'woman', 'presenting', 'ami', 'european', 'emergency', 'department', 'indicates', 'good', 'clue', 'specific', 'woman', 'help', 'staff', 'identify', 'woman', 'men', 'alike', 'feel', 'heart', 'attack', 'kind', 'chest', 'pain', 'heart', 'attack', 'symptom', 'differ', 'chest', 'pain', 'pretty', 'standard', 'large', 'study', 'sign', 'heart', 'attack', 'woman', 'men', 'case', 'chest', 'pain', 'reveals', 'european', 'study', 'symptom', 'chest', 'pain', 'experienced', 'woman', 'men', 'awareness', 'heart', 'save', 'washin', 'post', 'dot', 'complicated', 'untangling', 'wired', 'life', 'randi', 'zuckerberg', 'hea', 'science', 'news', 'hea', 'insurance', 'exchange', 'year', 'medical', 'community', 'grown', 'increasingly', 'concerned', 'woman', 'heart', 'attack', 'receive', 'prompt', 'effective', 'treatment', 'difference', 'sex', 'presentation', 'symptom', 'thought', 'major'], [127]>\n",
      "TaggedDocument<['woman', 'family', 'history', 'breast', 'cancer', 'tested', 'brca', 'brca', 'genetic', 'mutation', 'linked', 'disease', 'woman', 'family', 'history', 'breast', 'cancer', 'tested', 'brca', 'brca', 'genetic', 'mutation', 'linked', 'woman', 'test', 'negative', 'family', 'specific', 'brca', 'mutation', 'family', 'member', 'posse', 'mutation', 'higher', 'risk', 'breast', 'cancer', 'study', 'possessing', 'gene', 'mutation', 'brca', 'brca', 'gene', 'nassau', 'bahamas', 'day', 'woman', 'family', 'faced', 'daunting', 'life', 'changing', 'cope', 'warrior', 'community', 'year', 'bahamian', 'hea', 'official', 'estimate', 'three', 'breast', 'cancer', 'affect', 'woman', 'point', 'lifetime', 'risk', 'increase', 'age', 'risk', 'woman', 'age', 'group', 'genetic', 'change', 'including', 'brca', 'brca', 'carry'], [16]>\n",
      "TaggedDocument<['team', 'researcher', 'studying', 'human', 'emotion', 'regret', 'play', 'role', 'survival', 'reproduction', 'suggested', 'men', 'regret', 'action', 'potential', 'liaison', 'woman', 'remorseful', 'relationship', 'writer', 'lawyer', 'turned', 'writer', 'belief', 'love', 'life', 'hand', 'lemon', 'quit', 'job', 'move', 'share', 'dating', 'mishap', 'internet', 'share', 'unhappy', 'couple', 'bed', 'study', 'study', 'find', 'woman', 'men', 'regret', 'casual', 'sex', 'moving', 'fast', 'relationship', 'sleeping', 'wrong', 'person', 'men', 'regret', 'sex', 'people', 'university', 'texas', 'austin', 'researcher', 'lost', 'virginity', 'wrong', 'person', 'sexual', 'regret', 'differ', 'peer', 'reviewed', 'study', 'sexual', 'activity', 'discovered', 'difference', 'opinion', 'men', 'woman', 'regard', 'remorse', 'woman', 'top', 'regret', 'lost', 'conducted', 'university', 'texas', 'university', 'california', 'regret', 'linked', 'evolutionary', 'process', 'talking', 'reproduction', 'carrying', 'study', 'study', 'researcher', 'men', 'consequence', 'casual', 'sex', 'higher', 'woman', 'men', 'hase', 'afp', 'picaustin', 'texas', 'nov', 'men', 'regret', 'sex', 'people', 'woman', 'frequently', 'regret', 'sex', 'wrong', 'partner', 'study', 'published', 'archive', 'sexual', 'behavior', 'team', 'evolutionary', 'psychologist', 'queried', 'american', 'college', 'student', 'greatest', 'romantic', 'sexual', 'regret', 'female', 'student', 'express', 'regret', 'file', 'study', 'researcher', 'university', 'texas', 'university', 'california', 'los', 'angeles', 'men', 'regret', 'sex', 'people', 'woman', 'frequently', 'regret', 'sex', 'wrong', 'partner', 'picture', 'pornchai', 'nov', 'awhile', 'senior', 'citizen', 'worry', 'sexual', 'regret', 'surprised', 'largest', 'depth', 'study', 'regret', 'surrounding', 'sexual', 'activity', 'men', 'woman', 'find'], [121]>\n",
      "TaggedDocument<['alzheimer', 'common', 'form', 'dementia', 'proper', 'medical', 'cure', 'till', 'early', 'detection', 'symptom', 'afford', 'better', 'chance', 'survival', 'patient', 'study', 'reveals', 'sign', 'alzheimer', 'detected', 'infant', 'study', 'suggests', 'baby', 'genetic', 'risk', 'alzheimer', 'brain', 'makeup', 'baby', 'alzheimers', 'test', 'apoe', 'gene', 'variant', 'associated', 'alzheimer', 'detected', 'blood', 'test', 'researcher', 'year', 'develop', 'brown', 'university', 'researcher', 'sean', 'deoni', 'kid', 'friendly', 'mri', 'silent', 'acquires', 'brain', 'image', 'mri', 'deoni', 'studying', 'developing', 'brain', 'work', 'focused', 'scientist', 'step', 'closer', 'understanding', 'sign', 'alzheimer', 'brown', 'university', 'researcher', 'colleague', 'earliest', 'evidence', 'enlarge', 'image', 'credit', 'advanced', 'baby', 'imaging', 'lab', 'brown', 'university', 'rachael', 'rettner', 'senior', 'writer', 'published', 'pm', 'est', 'livescience', 'people', 'genetically', 'predisposed', 'alzheimer', 'disease', 'difference', 'brain', 'detected', 'early', 'infancy', 'study', 'suggests', 'photo', 'courtesy', 'shutterstock', 'infant', 'carry', 'apoe', 'gene', 'risk', 'factor', 'late', 'onset', 'alzheimer', 'disease', 'tend', 'difference', 'brain', 'development', 'compared', 'child', 'gene', 'quarter', 'american', 'carry'], [29]>\n",
      "TaggedDocument<['monday', 'nov', 'hea', 'hday', 'news', 'procedure', 'treat', 'bleeding', 'stomach', 'ulcer', 'stand', 'potential', 'weapon', 'battle', 'bulge', 'small', 'preliminary', 'study', 'suggests', 'procedure', 'called', 'gastric', 'artery', 'embolization', 'involves'], [58]>\n"
     ]
    }
   ],
   "source": [
    "for s in similar_documents:\n",
    "    i = s[0]\n",
    "    print(tagged_data[i])"
   ]
  },
  {
   "cell_type": "markdown",
   "id": "eb067e15-3c26-42fa-9ce7-a49fbd4ecc70",
   "metadata": {},
   "source": [
    "## Universal Sentence Encoder"
   ]
  },
  {
   "cell_type": "code",
   "execution_count": 295,
   "id": "bd591e76-6fd5-4a9b-aa7d-95ce53fefea6",
   "metadata": {},
   "outputs": [
    {
     "name": "stdout",
     "output_type": "stream",
     "text": [
      "module https://tfhub.dev/google/universal-sentence-encoder/4 loaded\n"
     ]
    }
   ],
   "source": [
    "import tensorflow_hub as hub\n",
    "module_url = \"https://tfhub.dev/google/universal-sentence-encoder/4\" \n",
    "modelUnv = hub.load(module_url)\n",
    "print (\"module %s loaded\" % module_url)"
   ]
  },
  {
   "cell_type": "code",
   "execution_count": 296,
   "id": "18b70969-3820-414e-9139-a6bce427a66e",
   "metadata": {},
   "outputs": [],
   "source": [
    "sentence_embeddings = modelUnv(df_train['Event'])\n",
    "query = \"doctor misdiagnosing woman symptom\"\n",
    "query_vec = modelUnv([query])[0]"
   ]
  },
  {
   "cell_type": "code",
   "execution_count": 297,
   "id": "cb92d9c7-9a2d-4e80-a6bf-705cae23b974",
   "metadata": {},
   "outputs": [],
   "source": [
    "dicUniv = {}\n",
    "\n",
    "for sent in df_test['Event']:\n",
    "  sim = cosine(query_vec, modelUnv([sent])[0])\n",
    "  dicUniv.update({sent : sim})\n",
    "  #print(\"Sentence = \", sent, \"; similarity = \", sim)\n",
    "    "
   ]
  },
  {
   "cell_type": "code",
   "execution_count": 300,
   "id": "6d78302c-821f-4bf0-bad5-09b3eb052037",
   "metadata": {},
   "outputs": [
    {
     "name": "stdout",
     "output_type": "stream",
     "text": [
      "doctor misdiagnosing woman chest pain heart attack symptom men experience female dying reason happening study jama international medicine compared men woman suffer chest pain acute syndrome chest pain symptom ac situation nadia khan team doctor better educated risk fatal heart attack woman decade recognize warning sign chest pain differently woman men crushing chest chicago il analysis chest pain symptom men woman presenting ami european emergency department indicates good clue specific woman help staff identify woman men alike feel heart attack kind chest pain heart attack symptom differ chest pain pretty standard large study sign heart attack woman men case chest pain reveals european study symptom chest pain experienced woman men awareness heart save washin post dot complicated untangling wired life randi zuckerberg hea science news hea insurance exchange year medical community grown increasingly concerned woman heart attack receive prompt effective treatment difference sex presentation symptom thought major\n"
     ]
    }
   ],
   "source": [
    "max_key = max(dicUniv, key=dicUniv.get)\n",
    "max_keys = [key for key, value in dicUniv.items() if value == max(dicUniv.values())]\n",
    "print(max_key)\n"
   ]
  },
  {
   "cell_type": "code",
   "execution_count": 301,
   "id": "7154bb52-7416-40e0-9308-b0437eb01923",
   "metadata": {},
   "outputs": [
    {
     "name": "stdout",
     "output_type": "stream",
     "text": [
      "0.30162203\n"
     ]
    }
   ],
   "source": [
    "max_value = max(dicUniv.values())\n",
    "print(max_value)\n"
   ]
  },
  {
   "cell_type": "code",
   "execution_count": 302,
   "id": "608b4c99-bd4b-41d7-802a-e19275f985bc",
   "metadata": {},
   "outputs": [
    {
     "data": {
      "text/plain": [
       "[(0.30162203,\n",
       "  'doctor misdiagnosing woman chest pain heart attack symptom men experience female dying reason happening study jama international medicine compared men woman suffer chest pain acute syndrome chest pain symptom ac situation nadia khan team doctor better educated risk fatal heart attack woman decade recognize warning sign chest pain differently woman men crushing chest chicago il analysis chest pain symptom men woman presenting ami european emergency department indicates good clue specific woman help staff identify woman men alike feel heart attack kind chest pain heart attack symptom differ chest pain pretty standard large study sign heart attack woman men case chest pain reveals european study symptom chest pain experienced woman men awareness heart save washin post dot complicated untangling wired life randi zuckerberg hea science news hea insurance exchange year medical community grown increasingly concerned woman heart attack receive prompt effective treatment difference sex presentation symptom thought major'),\n",
       " (0.17144527,\n",
       "  'alzheimer common form dementia proper medical cure till early detection symptom afford better chance survival patient study reveals sign alzheimer detected infant study suggests baby genetic risk alzheimer brain makeup baby alzheimers test apoe gene variant associated alzheimer detected blood test researcher year develop brown university researcher sean deoni kid friendly mri silent acquires brain image mri deoni studying developing brain work focused scientist step closer understanding sign alzheimer brown university researcher colleague earliest evidence enlarge image credit advanced baby imaging lab brown university rachael rettner senior writer published pm est livescience people genetically predisposed alzheimer disease difference brain detected early infancy study suggests photo courtesy shutterstock infant carry apoe gene risk factor late onset alzheimer disease tend difference brain development compared child gene quarter american carry'),\n",
       " (0.16942532,\n",
       "  'rep actress confirmed birth married month hewitt brian hallisay welcoming daughter hour ago jennifer love hewitt brian hallisay jennifer love hewitt husband brian actress partner brian hallisay welcomed baby girl tuesday november pair tied knot private ceremony jennifer love hewitt husband brian hallisay thrilled birth jennifer love hewitt christmas early report year client list star welcomed bouncing baby girl fianc husband brian hallisay jennifer love hewitt star client list birth child yesterday daughter named autumn james exciting news brand mom jen secretly tied knot baby daddy brian hallisay july photo actress jennifer love hewitt attends navy disney mickey decade collection celebration wa disney studio burbank calif hewitt client list star brian hallisay parent baby autumn actress jennifer love hewitt husband actor brian hallisay welcomed baby girl autumn james hallisay people hewitt rep told magazine secretly thrilled actress jennifer love hewitt brian hallisay welcomed child tuesday girl secretly married girl husband jennifer love hewitt fame flynet picture hewitt rep told extra hewitt husband brian client list actress welcomed daughter autumn james hallisay tuesday announcing happy news referred fianc brian hallisay husband representative jennifer told weekly jennifer love hewitt jennifer love hewitt busy month growing actual human inside body married long term fianc brian hallisay girl foot stat client list star birth baby cramming huge life milestone short amount time jennifer love hewitt confirmed birth child married fianc brian hallisay statement rep jennifer love hewitt husband brian hallisay taylor swift met prince william jennifer love hewitt taylor swift met prince william winter white gala jennifer love hewitt welcomed child husband brian hallisay rep confirmed exclusively weekly tuesday congratulation newlywed parent jennifer love hewitt brian hallisay welcoming daughter autumn james hallisay year actress birth tuesday secretly wedding client list costar brian hallisay jennifer love hewitt photo reuters mario anzuoni jennifer love hewitt announced pregnancy star brian hallisay jennifer love hewitt client list actress birth hea hy baby girl revealed secretly tied jennifer love hewitt lot celebrate client list star welcomed baby girl tuesday married jennifer love hewitt husband brian hallisay thrilled birth daughter rep party actress husband brian hallisay thrilled birth daughter autumn james hallisay born november rep confirmed abc news today hewitt told abc news august jennifer love hewitt august york city jennifer love hewitt welcomed child brian hallisay baby girl named autumn james nov rep exclusively hallisay married private ceremony christmas early jennifer love hewitt year actress welcomed baby girl tuesday named autumn james hallisay good news hewitt rep shared secretly married client list hewitt birth married jennifer love hewitt celebrated birth daughter tuesday hewitt set marriage rumor rest confirming fianc secret wedding actress husband brian jennifer love hewitt client list star brian hallisay welcomed child girl named autumn james hallisay usmagazine report hewitt rep reveals statement couple tied knot couple revealed november jennifer love hewitt plenty celebrate mum married tarantino western watson wrestled potter role matt smith doctor retires hurt star actor rep jennifer love hewitt confirms year actress birth child today bombshell client list star secretly married partner star brian hallisay jennifer love hewitt actress jennifer love hewitt big reason thankful upcoming thanksgiving holiday mom newly report star brian hallisay time parent tuesday hewitt birth jennifer love hewitt mother second time welcoming daughter autumn james tuesday november jen busy pregnancy half brian hallisay plenty'),\n",
       " (0.155018,\n",
       "  'heterosexual men relationship stood attractive woman closer dosed oxytocin posted ananth baliga nov pm updated nov pm comment couple hold hand scientist bonn university medical center oxytocin administered men picture partner bonding hormone stimulates reward center brain increass attractiveness partner bond people love maintained scientist bonn university medical center discovered biological mechanism explain attraction loving couple oxytocin administered men cuddle hormone oxytocin men relationship drug kick partner german scientist major reason people form exclusive partnership freedom teach oxytocin hormone released brain responsible renewed attraction face romantic partner study find photo lyndasanchez flickr pray partner short oxytocin hormone oxytocin hormone secret making true love oxytocin study published proceeding national academy science photo pixabay secret making true love oxytocin study published proceeding scientific investigation human monogamy hormone oxytocin oxt men perceive partner attractive woman image female partner reward region men brain researcher bonn university medical center germany performed experiment oxytocin responsible stren hening monogamy men dr ren hurlemann executive senior physician bonn university medical'),\n",
       " (0.15345933,\n",
       "  'woman family history breast cancer tested brca brca genetic mutation linked disease woman family history breast cancer tested brca brca genetic mutation linked woman test negative family specific brca mutation family member posse mutation higher risk breast cancer study possessing gene mutation brca brca gene nassau bahamas day woman family faced daunting life changing cope warrior community year bahamian hea official estimate three breast cancer affect woman point lifetime risk increase age risk woman age group genetic change including brca brca carry')]"
      ]
     },
     "execution_count": 302,
     "metadata": {},
     "output_type": "execute_result"
    }
   ],
   "source": [
    "\n",
    "value_key_pairs = ((value, key) for (key,value) in dicUniv.items())\n",
    "sorted_value_key_pairs = sorted(value_key_pairs, reverse=True)\n",
    "sorted_value_key_pairs[0:5]"
   ]
  },
  {
   "cell_type": "code",
   "execution_count": null,
   "id": "75309ba2-4917-4d39-ba43-1bc257410f10",
   "metadata": {},
   "outputs": [],
   "source": []
  }
 ],
 "metadata": {
  "kernelspec": {
   "display_name": "Python 3 (ipykernel)",
   "language": "python",
   "name": "python3"
  },
  "language_info": {
   "codemirror_mode": {
    "name": "ipython",
    "version": 3
   },
   "file_extension": ".py",
   "mimetype": "text/x-python",
   "name": "python",
   "nbconvert_exporter": "python",
   "pygments_lexer": "ipython3",
   "version": "3.8.8"
  }
 },
 "nbformat": 4,
 "nbformat_minor": 5
}
